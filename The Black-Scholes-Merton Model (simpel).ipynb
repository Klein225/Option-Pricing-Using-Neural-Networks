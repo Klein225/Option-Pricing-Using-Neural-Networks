{
 "cells": [
  {
   "cell_type": "markdown",
   "metadata": {},
   "source": [
    "# The Black-Scholes-Merton Formula"
   ]
  },
  {
   "cell_type": "markdown",
   "metadata": {},
   "source": [
    "Import packages"
   ]
  },
  {
   "cell_type": "code",
   "execution_count": 9,
   "metadata": {},
   "outputs": [],
   "source": [
    "import numpy as np\n",
    "from scipy.stats import norm"
   ]
  },
  {
   "cell_type": "markdown",
   "metadata": {},
   "source": [
    "Define both the call and put function for a european (non-dividend paying) vanilla option:\n",
    "    S_t: Spot price at time t.\n",
    "    K: Strike price.\n",
    "    t: time of purchase.\n",
    "    T: Maturity.\n",
    "    r: interest rate.\n",
    "    sigma: volatility of the underlying asset."
   ]
  },
  {
   "cell_type": "code",
   "execution_count": 14,
   "metadata": {},
   "outputs": [],
   "source": [
    "def euro_vanilla(S_t, K, t, T, r, sigma, option = ''):\n",
    "    d1 = (np.log(S_t/K)+(r+0.5*sigma**2)*(T-t))/(sigma*np.sqrt(T-t))\n",
    "    d2 = (np.log(S_t/K)+(r-0.5*sigma**2)*(T-t))/(sigma*np.sqrt(T-t))\n",
    "    \n",
    "    if option == 'call':\n",
    "        result = S_t*norm.cdf(d1, 0.0, 1.0)-K*np.exp(-r*(T-t))*norm.cdf(d2, 0.0, 1.0)\n",
    "    if option == 'put':\n",
    "        result = K*np.exp(-r*(T-t))*norm.cdf(-d2, 0.0, 1.0)-S_t*norm.cdf(-d1, 0.0, 1.0)\n",
    "    \n",
    "    return result"
   ]
  },
  {
   "cell_type": "markdown",
   "metadata": {},
   "source": [
    "Test to see if it works:"
   ]
  },
  {
   "cell_type": "code",
   "execution_count": 25,
   "metadata": {},
   "outputs": [
    {
     "data": {
      "image/png": "[encoded data removed]",
      "text/latex": [
       "$\\displaystyle 40.48951615287202$"
      ],
      "text/plain": [
       "40.48951615287202"
      ]
     },
     "execution_count": 25,
     "metadata": {},
     "output_type": "execute_result"
    }
   ],
   "source": [
    "euro_vanilla(S_t=50, K=100, t=0, T=1, r=0.1, sigma=0.20, option = 'put')"
   ]
  },
  {
   "cell_type": "code",
   "execution_count": 28,
   "metadata": {},
   "outputs": [
    {
     "data": {
      "image/png": "[encoded data removed]",
      "text/latex": [
       "$\\displaystyle 0.0057743492760725795$"
      ],
      "text/plain": [
       "0.0057743492760725795"
      ]
     },
     "execution_count": 28,
     "metadata": {},
     "output_type": "execute_result"
    }
   ],
   "source": [
    "euro_vanilla(S_t=50, K=100, t=0, T=1, r=0.1, sigma=0.2, option = 'call')"
   ]
  }
 ],
 "metadata": {
  "kernelspec": {
   "display_name": "Python 3",
   "language": "python",
   "name": "python3"
  },
  "language_info": {
   "codemirror_mode": {
    "name": "ipython",
    "version": 3
   },
   "file_extension": ".py",
   "mimetype": "text/x-python",
   "name": "python",
   "nbconvert_exporter": "python",
   "pygments_lexer": "ipython3",
   "version": "3.7.4"
  }
 },
 "nbformat": 4,
 "nbformat_minor": 2
}
