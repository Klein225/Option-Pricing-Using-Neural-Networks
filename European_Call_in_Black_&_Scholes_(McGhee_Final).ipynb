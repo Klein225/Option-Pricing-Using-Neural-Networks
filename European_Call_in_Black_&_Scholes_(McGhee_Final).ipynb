{
  "nbformat": 4,
  "nbformat_minor": 0,
  "metadata": {
    "colab": {
      "name": "European Call in Black & Scholes (McGhee Final).ipynb",
      "provenance": [],
      "collapsed_sections": [],
      "authorship_tag": "ABX9TyNkuPg3S0FOetXJkR4gNTwM",
      "include_colab_link": true
    },
    "kernelspec": {
      "name": "python3",
      "display_name": "Python 3"
    }
  },
  "cells": [
    {
      "cell_type": "markdown",
      "metadata": {
        "id": "view-in-github",
        "colab_type": "text"
      },
      "source": [
        "<a href=\"https://colab.research.google.com/github/Klein225/Option-Pricing-Using-Neural-Networks/blob/master/European_Call_in_Black_%26_Scholes_(McGhee_Final).ipynb\" target=\"_parent\"><img src=\"https://colab.research.google.com/assets/colab-badge.svg\" alt=\"Open In Colab\"/></a>"
      ]
    },
    {
      "cell_type": "markdown",
      "metadata": {
        "id": "OqY_i1pJdDbV",
        "colab_type": "text"
      },
      "source": [
        "# **Europen Call in Black-Scholes-Merton (Partially McGhee)**\n",
        "We will try and learn the BSM Model (without dividends) using a Neural Network with the same (almost) parameters as in McGhees paper \"An Artificual Neural Network Representation of the SABR Stochastic Volatility Model\". This is intended as a introduction to the more complex SABR model which is an extension of the BSM model.\n",
        "\n",
        "We will start by creatin a dataset for us to train on"
      ]
    },
    {
      "cell_type": "code",
      "metadata": {
        "id": "XpNhcs2_PJG4",
        "colab_type": "code",
        "colab": {}
      },
      "source": [
        "# Import packages\n",
        "import pylab\n",
        "import pandas as pd\n",
        "import numpy as np\n",
        "from scipy.stats import norm\n",
        "import matplotlib.pyplot as plt\n",
        "import random\n",
        "\n",
        "import tensorflow as tf\n",
        "from tensorflow import keras\n",
        "from tensorflow.keras.callbacks import EarlyStopping\n",
        "from sklearn.model_selection import train_test_split\n",
        "from sklearn.preprocessing import StandardScaler"
      ],
      "execution_count": 0,
      "outputs": []
    },
    {
      "cell_type": "code",
      "metadata": {
        "id": "_ddaW6rsfF8c",
        "colab_type": "code",
        "colab": {}
      },
      "source": [
        "#N: number of random options\n",
        "N = 100000\n",
        "\n",
        "#Make the same random numbers every time using seed\n",
        "random.seed(42)\n",
        "\n",
        "#uniform stock pices\n",
        "S = np.random.rand(N) * 100\n",
        "#Stike prices (simpler version of how McGhee chooses his strike prices)\n",
        "K = (np.random.randint(50, 150, N) * .01) * S\n",
        "#Time (1day to 2 years)\n",
        "T = np.random.randint(1, 730, N) / 365\n",
        "#Risk free rate\n",
        "r = np.random.randint(1, 500, N) / 10000\n",
        "#volatility (5% to 50%)\n",
        "sigma = np.random.randint(5, 50, N) / 100"
      ],
      "execution_count": 0,
      "outputs": []
    },
    {
      "cell_type": "code",
      "metadata": {
        "id": "mnTCg9ZRguPp",
        "colab_type": "code",
        "colab": {}
      },
      "source": [
        "Option_values = pd.DataFrame({'S': S,\n",
        "                              'K': K,\n",
        "                              'T': T,\n",
        "                              'r': r,\n",
        "                              'sigma': sigma})"
      ],
      "execution_count": 0,
      "outputs": []
    },
    {
      "cell_type": "code",
      "metadata": {
        "id": "ANTEJKKHhhyA",
        "colab_type": "code",
        "outputId": "84c0bf66-48ff-47ce-ab43-8a68942fef44",
        "colab": {
          "base_uri": "https://localhost:8080/",
          "height": 204
        }
      },
      "source": [
        "Option_values.tail()"
      ],
      "execution_count": 4,
      "outputs": [
        {
          "output_type": "execute_result",
          "data": {
            "text/html": [
              "<div>\n",
              "<style scoped>\n",
              "    .dataframe tbody tr th:only-of-type {\n",
              "        vertical-align: middle;\n",
              "    }\n",
              "\n",
              "    .dataframe tbody tr th {\n",
              "        vertical-align: top;\n",
              "    }\n",
              "\n",
              "    .dataframe thead th {\n",
              "        text-align: right;\n",
              "    }\n",
              "</style>\n",
              "<table border=\"1\" class=\"dataframe\">\n",
              "  <thead>\n",
              "    <tr style=\"text-align: right;\">\n",
              "      <th></th>\n",
              "      <th>S</th>\n",
              "      <th>K</th>\n",
              "      <th>T</th>\n",
              "      <th>r</th>\n",
              "      <th>sigma</th>\n",
              "    </tr>\n",
              "  </thead>\n",
              "  <tbody>\n",
              "    <tr>\n",
              "      <th>99995</th>\n",
              "      <td>96.522819</td>\n",
              "      <td>55.983235</td>\n",
              "      <td>1.747945</td>\n",
              "      <td>0.0172</td>\n",
              "      <td>0.49</td>\n",
              "    </tr>\n",
              "    <tr>\n",
              "      <th>99996</th>\n",
              "      <td>52.373285</td>\n",
              "      <td>56.563148</td>\n",
              "      <td>1.556164</td>\n",
              "      <td>0.0420</td>\n",
              "      <td>0.09</td>\n",
              "    </tr>\n",
              "    <tr>\n",
              "      <th>99997</th>\n",
              "      <td>91.602629</td>\n",
              "      <td>117.251365</td>\n",
              "      <td>0.465753</td>\n",
              "      <td>0.0215</td>\n",
              "      <td>0.15</td>\n",
              "    </tr>\n",
              "    <tr>\n",
              "      <th>99998</th>\n",
              "      <td>60.136841</td>\n",
              "      <td>50.514946</td>\n",
              "      <td>1.520548</td>\n",
              "      <td>0.0214</td>\n",
              "      <td>0.37</td>\n",
              "    </tr>\n",
              "    <tr>\n",
              "      <th>99999</th>\n",
              "      <td>17.717459</td>\n",
              "      <td>22.146824</td>\n",
              "      <td>1.624658</td>\n",
              "      <td>0.0442</td>\n",
              "      <td>0.42</td>\n",
              "    </tr>\n",
              "  </tbody>\n",
              "</table>\n",
              "</div>"
            ],
            "text/plain": [
              "               S           K         T       r  sigma\n",
              "99995  96.522819   55.983235  1.747945  0.0172   0.49\n",
              "99996  52.373285   56.563148  1.556164  0.0420   0.09\n",
              "99997  91.602629  117.251365  0.465753  0.0215   0.15\n",
              "99998  60.136841   50.514946  1.520548  0.0214   0.37\n",
              "99999  17.717459   22.146824  1.624658  0.0442   0.42"
            ]
          },
          "metadata": {
            "tags": []
          },
          "execution_count": 4
        }
      ]
    },
    {
      "cell_type": "markdown",
      "metadata": {
        "id": "ly-mRUtWzNai",
        "colab_type": "text"
      },
      "source": [
        "**<h3><center>Black & Scholes' formula</center></h3>**\n",
        "\n",
        "Since we are using supervised learning, we need to calculate the BSM call prices. this is done using the following formula:\n",
        "$$\n",
        "B{S_{K,T,\\sigma }}\\left( S \\right) = SN\\left( {\\frac{{\\log \\left( {\\frac{S}{K}} \\right) +\\left( r+ \\frac{{{\\sigma ^2}}}{2}\\right)T}}{\\sigma \\sqrt{T} }} \\right) - Ke^{-rT}N\\left( {\\frac{{\\log \\left( {\\frac{S}{K}} \\right) +\\left( r- \\frac{{{\\sigma ^2}}}{2}\\right)T}}{\\sigma\\sqrt{T} }} \\right)\n",
        "$$"
      ]
    },
    {
      "cell_type": "code",
      "metadata": {
        "id": "iHvhsSsqyP4p",
        "colab_type": "code",
        "colab": {}
      },
      "source": [
        "def bsm_call(S, K, T, r, sigma):\n",
        "  d1 = (np.log(S / K) + (r + sigma**2 / 2) * T) / (sigma * np.sqrt(T))\n",
        "  d2 = (np.log(S / K) + (r - sigma**2 / 2) * T) / (sigma * np.sqrt(T))\n",
        "\n",
        "  return S * norm.cdf(d1) - K * np.exp(-r*T) * norm.cdf(d2)"
      ],
      "execution_count": 0,
      "outputs": []
    },
    {
      "cell_type": "code",
      "metadata": {
        "id": "COn3mW2p1sEy",
        "colab_type": "code",
        "outputId": "8b6c77fb-d830-4fae-b462-92c61c622d6a",
        "colab": {
          "base_uri": "https://localhost:8080/",
          "height": 221
        }
      },
      "source": [
        "#Generate option prices for all the random option values\n",
        "%%time\n",
        "\n",
        "Option_prices = []\n",
        "for i in range(N):\n",
        "  C = bsm_call(S[i], K[i], T[i], r[i], sigma[i])\n",
        "  Option_prices.append(C)\n",
        "  #print how far its gotten at regular intervals\n",
        "  if (i % 10000) == 0:\n",
        "    print('Generated {} options'.format(i))\n",
        "\n",
        "Options = pd.DataFrame({'S': S,\n",
        "                        'K': K,\n",
        "                        'T': T,\n",
        "                        'r': r,\n",
        "                        'sigma': sigma,\n",
        "                        'C': Option_prices})"
      ],
      "execution_count": 6,
      "outputs": [
        {
          "output_type": "stream",
          "text": [
            "Generated 0 options\n",
            "Generated 10000 options\n",
            "Generated 20000 options\n",
            "Generated 30000 options\n",
            "Generated 40000 options\n",
            "Generated 50000 options\n",
            "Generated 60000 options\n",
            "Generated 70000 options\n",
            "Generated 80000 options\n",
            "Generated 90000 options\n",
            "CPU times: user 19.4 s, sys: 259 ms, total: 19.6 s\n",
            "Wall time: 19.2 s\n"
          ],
          "name": "stdout"
        }
      ]
    },
    {
      "cell_type": "code",
      "metadata": {
        "id": "9cFfb0bJ9ut3",
        "colab_type": "code",
        "outputId": "e161062d-12f4-4026-c69d-e30a8bba5426",
        "colab": {
          "base_uri": "https://localhost:8080/",
          "height": 204
        }
      },
      "source": [
        "Options.tail()"
      ],
      "execution_count": 7,
      "outputs": [
        {
          "output_type": "execute_result",
          "data": {
            "text/html": [
              "<div>\n",
              "<style scoped>\n",
              "    .dataframe tbody tr th:only-of-type {\n",
              "        vertical-align: middle;\n",
              "    }\n",
              "\n",
              "    .dataframe tbody tr th {\n",
              "        vertical-align: top;\n",
              "    }\n",
              "\n",
              "    .dataframe thead th {\n",
              "        text-align: right;\n",
              "    }\n",
              "</style>\n",
              "<table border=\"1\" class=\"dataframe\">\n",
              "  <thead>\n",
              "    <tr style=\"text-align: right;\">\n",
              "      <th></th>\n",
              "      <th>S</th>\n",
              "      <th>K</th>\n",
              "      <th>T</th>\n",
              "      <th>r</th>\n",
              "      <th>sigma</th>\n",
              "      <th>C</th>\n",
              "    </tr>\n",
              "  </thead>\n",
              "  <tbody>\n",
              "    <tr>\n",
              "      <th>99995</th>\n",
              "      <td>96.522819</td>\n",
              "      <td>55.983235</td>\n",
              "      <td>1.747945</td>\n",
              "      <td>0.0172</td>\n",
              "      <td>0.49</td>\n",
              "      <td>46.868420</td>\n",
              "    </tr>\n",
              "    <tr>\n",
              "      <th>99996</th>\n",
              "      <td>52.373285</td>\n",
              "      <td>56.563148</td>\n",
              "      <td>1.556164</td>\n",
              "      <td>0.0420</td>\n",
              "      <td>0.09</td>\n",
              "      <td>2.065221</td>\n",
              "    </tr>\n",
              "    <tr>\n",
              "      <th>99997</th>\n",
              "      <td>91.602629</td>\n",
              "      <td>117.251365</td>\n",
              "      <td>0.465753</td>\n",
              "      <td>0.0215</td>\n",
              "      <td>0.15</td>\n",
              "      <td>0.037095</td>\n",
              "    </tr>\n",
              "    <tr>\n",
              "      <th>99998</th>\n",
              "      <td>60.136841</td>\n",
              "      <td>50.514946</td>\n",
              "      <td>1.520548</td>\n",
              "      <td>0.0214</td>\n",
              "      <td>0.37</td>\n",
              "      <td>16.430275</td>\n",
              "    </tr>\n",
              "    <tr>\n",
              "      <th>99999</th>\n",
              "      <td>17.717459</td>\n",
              "      <td>22.146824</td>\n",
              "      <td>1.624658</td>\n",
              "      <td>0.0442</td>\n",
              "      <td>0.42</td>\n",
              "      <td>2.753669</td>\n",
              "    </tr>\n",
              "  </tbody>\n",
              "</table>\n",
              "</div>"
            ],
            "text/plain": [
              "               S           K         T       r  sigma          C\n",
              "99995  96.522819   55.983235  1.747945  0.0172   0.49  46.868420\n",
              "99996  52.373285   56.563148  1.556164  0.0420   0.09   2.065221\n",
              "99997  91.602629  117.251365  0.465753  0.0215   0.15   0.037095\n",
              "99998  60.136841   50.514946  1.520548  0.0214   0.37  16.430275\n",
              "99999  17.717459   22.146824  1.624658  0.0442   0.42   2.753669"
            ]
          },
          "metadata": {
            "tags": []
          },
          "execution_count": 7
        }
      ]
    },
    {
      "cell_type": "markdown",
      "metadata": {
        "id": "v6oy2FKf9uFB",
        "colab_type": "text"
      },
      "source": [
        "**<h3><center>A simple Neural Network</center></h3>**\n",
        "We will now start training our neural network on the BSM call prices. Just as in McGhees paper, we will use the following:\n",
        "*   Hidden layers: 1\n",
        "\n",
        "Given the universal approximation theorem we should in priciple be able to get away with only one hidden layer to approximate any continous function under certain assumptions. \n",
        "\n",
        "*   Nodes / Neurons: 1000\n",
        "\n",
        "You can try increasing the number of neurons gradually untill the network starts overfitting. But in practice, it's often simpler and more efficient to pick a model with more layers and neurons than you actually need, then use early stopping and other regularization techniques to prevent it from overfitting.\n",
        "\n",
        "*   Optimizer: Adam\n",
        "\n",
        "Adam, which stands for \"adaptive moment estimation\". It keeps track of an exponentially  decaying  average of past gradients and keeps track of an exponentially decaying average of past squared gradients.\n",
        "\n",
        "*   Loss function: Mean squared error\n",
        "\n",
        "MSE i current best practice, and good for fast calculations as it is a part of the official Keras API. It is also good when you dont have too many outliers.\n",
        "\n",
        "*   Activation function: Softplus\n",
        "\n",
        "Softplus activation function is a smooth variant of Relu (both ensures a positive output value):\n",
        "$$\n",
        "f(z)=\\ln(e^z+1)\n",
        "$$\n",
        "It is close to 0 when $z$ is negative and close to $z$ when $z$ is positive."
      ]
    },
    {
      "cell_type": "markdown",
      "metadata": {
        "id": "rRJcE5MyJSXx",
        "colab_type": "text"
      },
      "source": [
        "We start by splitting our data into a training, testing set and a validation set. We do this in order to avoid too much overfitting."
      ]
    },
    {
      "cell_type": "code",
      "metadata": {
        "id": "BFwel73K55sp",
        "colab_type": "code",
        "outputId": "fc8561f2-e312-4691-a9ff-5c763b054e0d",
        "colab": {
          "base_uri": "https://localhost:8080/",
          "height": 68
        }
      },
      "source": [
        "#For us to use the Sklearn model \"train_test_split\" we need to make a dataframe into a numpy array\n",
        "call_options = Options.values \n",
        "\n",
        "#First split the input variable and output variable from each other\n",
        "#input values\n",
        "X = call_options[:, :5]\n",
        "#output values\n",
        "y = call_options[:, 5:6]\n",
        "\n",
        "# 60% for training, 20% for testing and 20% for validating\n",
        "X_train, X_test, y_train, y_test = train_test_split(X, y, test_size=0.2, random_state=42)\n",
        "X_train, X_valid, y_train, y_valid = train_test_split(X_train, y_train, test_size=0.25, random_state=42) # 0.25 x 0.8 = 0.2\n",
        "\n",
        "#We standardize our data\n",
        "scaler = StandardScaler()\n",
        "X_train = scaler.fit_transform(X_train)\n",
        "X_valid = scaler.transform(X_valid)\n",
        "X_test = scaler.transform(X_test)\n",
        "\n",
        "print(X_train.shape, y_train.shape)\n",
        "print(X_test.shape, y_test.shape)\n",
        "print(X_valid.shape, y_valid.shape)"
      ],
      "execution_count": 8,
      "outputs": [
        {
          "output_type": "stream",
          "text": [
            "(60000, 5) (60000, 1)\n",
            "(20000, 5) (20000, 1)\n",
            "(20000, 5) (20000, 1)\n"
          ],
          "name": "stdout"
        }
      ]
    },
    {
      "cell_type": "markdown",
      "metadata": {
        "id": "t-KHGqoTMrX9",
        "colab_type": "text"
      },
      "source": [
        "Now, lets build the neural network with one hidden layer consisting of 1000 neurons/nodes and one output layer with 1 neuron/node."
      ]
    },
    {
      "cell_type": "code",
      "metadata": {
        "id": "cvKdPq9sBcpj",
        "colab_type": "code",
        "colab": {}
      },
      "source": [
        "model = keras.models.Sequential([\n",
        "  #Hidden layer\n",
        "  keras.layers.Dense(1000, activation='softplus', input_shape=X_train.shape[1:]),\n",
        "  #Output layer\n",
        "  keras.layers.Dense(1)\n",
        "])"
      ],
      "execution_count": 0,
      "outputs": []
    },
    {
      "cell_type": "markdown",
      "metadata": {
        "id": "2T17Y_1UopP-",
        "colab_type": "text"
      },
      "source": [
        "the model's summary() method displays all the model's layers, including each layers name, its output shape (none means the batch size can be anything), and its number of parameters. the summary ends with the total number of parameters, including trainable and non-trainable parameters."
      ]
    },
    {
      "cell_type": "code",
      "metadata": {
        "id": "wB5jLA3Vy64C",
        "colab_type": "code",
        "outputId": "cae28364-4ac6-4563-d3c1-85ac6a04a486",
        "colab": {
          "base_uri": "https://localhost:8080/",
          "height": 221
        }
      },
      "source": [
        "model.summary()"
      ],
      "execution_count": 10,
      "outputs": [
        {
          "output_type": "stream",
          "text": [
            "Model: \"sequential\"\n",
            "_________________________________________________________________\n",
            "Layer (type)                 Output Shape              Param #   \n",
            "=================================================================\n",
            "dense (Dense)                (None, 1000)              6000      \n",
            "_________________________________________________________________\n",
            "dense_1 (Dense)              (None, 1)                 1001      \n",
            "=================================================================\n",
            "Total params: 7,001\n",
            "Trainable params: 7,001\n",
            "Non-trainable params: 0\n",
            "_________________________________________________________________\n"
          ],
          "name": "stdout"
        }
      ]
    },
    {
      "cell_type": "markdown",
      "metadata": {
        "id": "c3abXtyWzkhN",
        "colab_type": "text"
      },
      "source": [
        "Time to compile our model.\n",
        "\n",
        "After a model is created, you must call its compile() method to specify the loss function and the optimizer to use. Optionally, you can specify a list of extra metrics to compute during training and evaluation."
      ]
    },
    {
      "cell_type": "code",
      "metadata": {
        "id": "VZrEwvZdy9gf",
        "colab_type": "code",
        "colab": {}
      },
      "source": [
        "model.compile(loss=\"mean_squared_error\",\n",
        "              optimizer=\"adam\")"
      ],
      "execution_count": 0,
      "outputs": []
    },
    {
      "cell_type": "markdown",
      "metadata": {
        "id": "KfGWH0TOpQG4",
        "colab_type": "text"
      },
      "source": [
        "Now the model is ready to be trained. For this we simply need to call its fit() method.\n",
        "\n",
        "We pass it the input features (X_train) and the target class (y_train), as well as the number of epochs to train (or else it would default to 1, which would definitely not be enough to converge to a good solution). we also pass a validation set (this is optional). Keras will measure the loss on this set at the end of each epoch, which is very useful to see how well the model really performs."
      ]
    },
    {
      "cell_type": "code",
      "metadata": {
        "id": "7uQpwwwazUC6",
        "colab_type": "code",
        "outputId": "e51ac141-bbbe-403a-c3c4-40bbd69f531d",
        "colab": {
          "base_uri": "https://localhost:8080/",
          "height": 1000
        }
      },
      "source": [
        "#Stop training if cost function (val_loss) using cross validation data fails to decrease\n",
        "callbacks_list = [EarlyStopping(monitor = 'val_loss', patience = 3)]\n",
        "\n",
        "history = model.fit(X_train, y_train, epochs=100,\n",
        "                    validation_data=(X_valid, y_valid), \n",
        "                    callbacks=callbacks_list)"
      ],
      "execution_count": 12,
      "outputs": [
        {
          "output_type": "stream",
          "text": [
            "Epoch 1/100\n",
            "1875/1875 [==============================] - 4s 2ms/step - loss: 20.2150 - val_loss: 6.0997\n",
            "Epoch 2/100\n",
            "1875/1875 [==============================] - 4s 2ms/step - loss: 4.5656 - val_loss: 3.3800\n",
            "Epoch 3/100\n",
            "1875/1875 [==============================] - 4s 2ms/step - loss: 2.6417 - val_loss: 2.1893\n",
            "Epoch 4/100\n",
            "1875/1875 [==============================] - 4s 2ms/step - loss: 1.6857 - val_loss: 1.5276\n",
            "Epoch 5/100\n",
            "1875/1875 [==============================] - 4s 2ms/step - loss: 1.4066 - val_loss: 1.4787\n",
            "Epoch 6/100\n",
            "1875/1875 [==============================] - 4s 2ms/step - loss: 1.3474 - val_loss: 1.4619\n",
            "Epoch 7/100\n",
            "1875/1875 [==============================] - 4s 2ms/step - loss: 1.3171 - val_loss: 1.3547\n",
            "Epoch 8/100\n",
            "1875/1875 [==============================] - 4s 2ms/step - loss: 1.2735 - val_loss: 1.2526\n",
            "Epoch 9/100\n",
            "1875/1875 [==============================] - 4s 2ms/step - loss: 1.2296 - val_loss: 1.3590\n",
            "Epoch 10/100\n",
            "1875/1875 [==============================] - 4s 2ms/step - loss: 1.1607 - val_loss: 1.2501\n",
            "Epoch 11/100\n",
            "1875/1875 [==============================] - 4s 2ms/step - loss: 1.0857 - val_loss: 1.0536\n",
            "Epoch 12/100\n",
            "1875/1875 [==============================] - 4s 2ms/step - loss: 0.9966 - val_loss: 1.1392\n",
            "Epoch 13/100\n",
            "1875/1875 [==============================] - 4s 2ms/step - loss: 0.8952 - val_loss: 0.8252\n",
            "Epoch 14/100\n",
            "1875/1875 [==============================] - 4s 2ms/step - loss: 0.7891 - val_loss: 0.7444\n",
            "Epoch 15/100\n",
            "1875/1875 [==============================] - 4s 2ms/step - loss: 0.6923 - val_loss: 0.7714\n",
            "Epoch 16/100\n",
            "1875/1875 [==============================] - 4s 2ms/step - loss: 0.6068 - val_loss: 0.5896\n",
            "Epoch 17/100\n",
            "1875/1875 [==============================] - 4s 2ms/step - loss: 0.5488 - val_loss: 0.6384\n",
            "Epoch 18/100\n",
            "1875/1875 [==============================] - 4s 2ms/step - loss: 0.4981 - val_loss: 0.4632\n",
            "Epoch 19/100\n",
            "1875/1875 [==============================] - 4s 2ms/step - loss: 0.4612 - val_loss: 0.4667\n",
            "Epoch 20/100\n",
            "1875/1875 [==============================] - 4s 2ms/step - loss: 0.4281 - val_loss: 0.4067\n",
            "Epoch 21/100\n",
            "1875/1875 [==============================] - 4s 2ms/step - loss: 0.4056 - val_loss: 0.3657\n",
            "Epoch 22/100\n",
            "1875/1875 [==============================] - 4s 2ms/step - loss: 0.3796 - val_loss: 0.3854\n",
            "Epoch 23/100\n",
            "1875/1875 [==============================] - 4s 2ms/step - loss: 0.3597 - val_loss: 0.3508\n",
            "Epoch 24/100\n",
            "1875/1875 [==============================] - 4s 2ms/step - loss: 0.3379 - val_loss: 0.3233\n",
            "Epoch 25/100\n",
            "1875/1875 [==============================] - 4s 2ms/step - loss: 0.3244 - val_loss: 0.3017\n",
            "Epoch 26/100\n",
            "1875/1875 [==============================] - 4s 2ms/step - loss: 0.3109 - val_loss: 0.2812\n",
            "Epoch 27/100\n",
            "1875/1875 [==============================] - 4s 2ms/step - loss: 0.2909 - val_loss: 0.2840\n",
            "Epoch 28/100\n",
            "1875/1875 [==============================] - 4s 2ms/step - loss: 0.2751 - val_loss: 0.2581\n",
            "Epoch 29/100\n",
            "1875/1875 [==============================] - 5s 2ms/step - loss: 0.2597 - val_loss: 0.2799\n",
            "Epoch 30/100\n",
            "1875/1875 [==============================] - 4s 2ms/step - loss: 0.2483 - val_loss: 0.2418\n",
            "Epoch 31/100\n",
            "1875/1875 [==============================] - 4s 2ms/step - loss: 0.2364 - val_loss: 0.2178\n",
            "Epoch 32/100\n",
            "1875/1875 [==============================] - 4s 2ms/step - loss: 0.2253 - val_loss: 0.2143\n",
            "Epoch 33/100\n",
            "1875/1875 [==============================] - 4s 2ms/step - loss: 0.2169 - val_loss: 0.1948\n",
            "Epoch 34/100\n",
            "1875/1875 [==============================] - 4s 2ms/step - loss: 0.2066 - val_loss: 0.1927\n",
            "Epoch 35/100\n",
            "1875/1875 [==============================] - 4s 2ms/step - loss: 0.1994 - val_loss: 0.1918\n",
            "Epoch 36/100\n",
            "1875/1875 [==============================] - 4s 2ms/step - loss: 0.1922 - val_loss: 0.2925\n",
            "Epoch 37/100\n",
            "1875/1875 [==============================] - 4s 2ms/step - loss: 0.1897 - val_loss: 0.1818\n",
            "Epoch 38/100\n",
            "1875/1875 [==============================] - 4s 2ms/step - loss: 0.1817 - val_loss: 0.1738\n",
            "Epoch 39/100\n",
            "1875/1875 [==============================] - 4s 2ms/step - loss: 0.1781 - val_loss: 0.1809\n",
            "Epoch 40/100\n",
            "1875/1875 [==============================] - 4s 2ms/step - loss: 0.1742 - val_loss: 0.1731\n",
            "Epoch 41/100\n",
            "1875/1875 [==============================] - 4s 2ms/step - loss: 0.1681 - val_loss: 0.2036\n",
            "Epoch 42/100\n",
            "1875/1875 [==============================] - 4s 2ms/step - loss: 0.1650 - val_loss: 0.1493\n",
            "Epoch 43/100\n",
            "1875/1875 [==============================] - 4s 2ms/step - loss: 0.1587 - val_loss: 0.1581\n",
            "Epoch 44/100\n",
            "1875/1875 [==============================] - 4s 2ms/step - loss: 0.1551 - val_loss: 0.1640\n",
            "Epoch 45/100\n",
            "1875/1875 [==============================] - 4s 2ms/step - loss: 0.1508 - val_loss: 0.1367\n",
            "Epoch 46/100\n",
            "1875/1875 [==============================] - 4s 2ms/step - loss: 0.1465 - val_loss: 0.1436\n",
            "Epoch 47/100\n",
            "1875/1875 [==============================] - 4s 2ms/step - loss: 0.1440 - val_loss: 0.1706\n",
            "Epoch 48/100\n",
            "1875/1875 [==============================] - 4s 2ms/step - loss: 0.1424 - val_loss: 0.1251\n",
            "Epoch 49/100\n",
            "1875/1875 [==============================] - 4s 2ms/step - loss: 0.1356 - val_loss: 0.1543\n",
            "Epoch 50/100\n",
            "1875/1875 [==============================] - 4s 2ms/step - loss: 0.1340 - val_loss: 0.1237\n",
            "Epoch 51/100\n",
            "1875/1875 [==============================] - 4s 2ms/step - loss: 0.1295 - val_loss: 0.1237\n",
            "Epoch 52/100\n",
            "1875/1875 [==============================] - 4s 2ms/step - loss: 0.1250 - val_loss: 0.1190\n",
            "Epoch 53/100\n",
            "1875/1875 [==============================] - 4s 2ms/step - loss: 0.1227 - val_loss: 0.1380\n",
            "Epoch 54/100\n",
            "1875/1875 [==============================] - 4s 2ms/step - loss: 0.1197 - val_loss: 0.1212\n",
            "Epoch 55/100\n",
            "1875/1875 [==============================] - 4s 2ms/step - loss: 0.1177 - val_loss: 0.1103\n",
            "Epoch 56/100\n",
            "1875/1875 [==============================] - 4s 2ms/step - loss: 0.1148 - val_loss: 0.2023\n",
            "Epoch 57/100\n",
            "1875/1875 [==============================] - 4s 2ms/step - loss: 0.1107 - val_loss: 0.1104\n",
            "Epoch 58/100\n",
            "1875/1875 [==============================] - 4s 2ms/step - loss: 0.1085 - val_loss: 0.1034\n",
            "Epoch 59/100\n",
            "1875/1875 [==============================] - 4s 2ms/step - loss: 0.1067 - val_loss: 0.1899\n",
            "Epoch 60/100\n",
            "1875/1875 [==============================] - 4s 2ms/step - loss: 0.1048 - val_loss: 0.1057\n",
            "Epoch 61/100\n",
            "1875/1875 [==============================] - 4s 2ms/step - loss: 0.1023 - val_loss: 0.0948\n",
            "Epoch 62/100\n",
            "1875/1875 [==============================] - 4s 2ms/step - loss: 0.1001 - val_loss: 0.0979\n",
            "Epoch 63/100\n",
            "1875/1875 [==============================] - 4s 2ms/step - loss: 0.0986 - val_loss: 0.0936\n",
            "Epoch 64/100\n",
            "1875/1875 [==============================] - 4s 2ms/step - loss: 0.0959 - val_loss: 0.0916\n",
            "Epoch 65/100\n",
            "1875/1875 [==============================] - 4s 2ms/step - loss: 0.0951 - val_loss: 0.0860\n",
            "Epoch 66/100\n",
            "1875/1875 [==============================] - 4s 2ms/step - loss: 0.0924 - val_loss: 0.0869\n",
            "Epoch 67/100\n",
            "1875/1875 [==============================] - 4s 2ms/step - loss: 0.0917 - val_loss: 0.0943\n",
            "Epoch 68/100\n",
            "1875/1875 [==============================] - 4s 2ms/step - loss: 0.0912 - val_loss: 0.0865\n"
          ],
          "name": "stdout"
        }
      ]
    },
    {
      "cell_type": "markdown",
      "metadata": {
        "id": "2KT3bXlQk_G0",
        "colab_type": "text"
      },
      "source": [
        "We can plot the loss-curve to see that it is indeed decreasign."
      ]
    },
    {
      "cell_type": "code",
      "metadata": {
        "id": "5mpxhTsFZPYZ",
        "colab_type": "code",
        "outputId": "0706a0f9-dd57-4ec4-a837-1523cb7d82ca",
        "colab": {
          "base_uri": "https://localhost:8080/",
          "height": 324
        }
      },
      "source": [
        "pd.DataFrame(history.history).plot(figsize=(8,5))\n",
        "plt.grid(True)\n",
        "plt.gca().set_ylim(0,8)\n",
        "plt.show()"
      ],
      "execution_count": 13,
      "outputs": [
        {
          "output_type": "display_data",
          "data": {
            "image/png": "[encoded data removed]",
            "text/plain": [
              "<Figure size 576x360 with 1 Axes>"
            ]
          },
          "metadata": {
            "tags": [],
            "needs_background": "light"
          }
        }
      ]
    },
    {
      "cell_type": "markdown",
      "metadata": {
        "id": "h-FLPRCxq2fS",
        "colab_type": "text"
      },
      "source": [
        "Once you are satisfied with your models validation loss, you should evaluate it on the test set to estimate the generalization error before you deploy the model to production."
      ]
    },
    {
      "cell_type": "code",
      "metadata": {
        "id": "XdFKthTXl1P6",
        "colab_type": "code",
        "outputId": "5041db22-3b2c-44e7-df0a-33d0c8a0ec5e",
        "colab": {
          "base_uri": "https://localhost:8080/",
          "height": 51
        }
      },
      "source": [
        "model.evaluate(X_test,y_test)"
      ],
      "execution_count": 14,
      "outputs": [
        {
          "output_type": "stream",
          "text": [
            "625/625 [==============================] - 1s 1ms/step - loss: 0.0841\n"
          ],
          "name": "stdout"
        },
        {
          "output_type": "execute_result",
          "data": {
            "text/plain": [
              "0.08408624678850174"
            ]
          },
          "metadata": {
            "tags": []
          },
          "execution_count": 14
        }
      ]
    },
    {
      "cell_type": "markdown",
      "metadata": {
        "id": "Pe_d9f9ervIY",
        "colab_type": "text"
      },
      "source": [
        "We show the plot of actual versus model-predicted prices, and see that they are highly accurate."
      ]
    },
    {
      "cell_type": "code",
      "metadata": {
        "id": "capQORKDmczK",
        "colab_type": "code",
        "colab": {}
      },
      "source": [
        "predictions = model.predict(X_test)"
      ],
      "execution_count": 0,
      "outputs": []
    },
    {
      "cell_type": "code",
      "metadata": {
        "id": "gX2RYpPknnkj",
        "colab_type": "code",
        "outputId": "3bd07b57-6886-4513-fe07-e2fe8ba0b12d",
        "colab": {
          "base_uri": "https://localhost:8080/",
          "height": 610
        }
      },
      "source": [
        "plt.figure(figsize = (15,10))\n",
        "plt.scatter(y_test, predictions)\n",
        "ax = plt.gca()\n",
        "ax.set_ylim([0,60])\n",
        "ax.set_xlim([0,60])\n",
        "plt.xlabel(\"Actual Price\")\n",
        "plt.ylabel(\"Predicted Price\")\n",
        "plt.grid(True)"
      ],
      "execution_count": 16,
      "outputs": [
        {
          "output_type": "display_data",
          "data": {
            "image/png": "[encoded data removed]",
            "text/plain": [
              "<Figure size 1080x720 with 1 Axes>"
            ]
          },
          "metadata": {
            "tags": [],
            "needs_background": "light"
          }
        }
      ]
    }
  ]
}