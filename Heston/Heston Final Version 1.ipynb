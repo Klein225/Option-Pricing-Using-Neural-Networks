{
 "cells": [
  {
   "cell_type": "markdown",
   "metadata": {
    "colab_type": "text",
    "id": "X6T-tJHARV9N"
   },
   "source": [
    "# **The Heston Stochastic Volatility Model**\n",
    "We will here do our final calculations for the numerical results part of the thesis. The hyper-parameter tuning and building the model has been done in subsequent notebooks"
   ]
  },
  {
   "cell_type": "code",
   "execution_count": 1,
   "metadata": {},
   "outputs": [
    {
     "data": {
      "text/html": [
       "<style>.container { width:90% !important; }</style>"
      ],
      "text/plain": [
       "<IPython.core.display.HTML object>"
      ]
     },
     "metadata": {},
     "output_type": "display_data"
    }
   ],
   "source": [
    "from IPython.core.display import display, HTML\n",
    "display(HTML(\"<style>.container { width:90% !important; }</style>\"))"
   ]
  },
  {
   "cell_type": "markdown",
   "metadata": {
    "colab_type": "text",
    "id": "1nNEugSORV9P"
   },
   "source": [
    "We will start by importing the nessecary packages"
   ]
  },
  {
   "cell_type": "code",
   "execution_count": 2,
   "metadata": {},
   "outputs": [],
   "source": [
    "import math\n",
    "import pandas as pd\n",
    "import datetime, os\n",
    "import numpy as np\n",
    "import numpy.random as npr\n",
    "from pylab import plt, mpl\n",
    "\n",
    "import threading\n",
    "\n",
    "import time\n",
    "import timeit\n",
    "\n",
    "from scipy.stats import norm\n",
    "from scipy import optimize\n",
    "import scipy.integrate as integrate\n",
    "import scipy.special as special \n",
    "\n",
    "import tensorflow as tf\n",
    "import tensorflow_addons as tfa\n",
    "from tensorflow.keras.callbacks import EarlyStopping, TensorBoard\n",
    "from tensorflow import keras\n",
    "from sklearn.model_selection import train_test_split\n",
    "from sklearn import preprocessing\n",
    "from sklearn.preprocessing import StandardScaler\n",
    "\n",
    "import matplotlib.pyplot as plt\n",
    "import matplotlib.gridspec as gridspec\n",
    "import seaborn as sns\n",
    "\n",
    "# Load the TensorBoard notebook extension\n",
    "%load_ext tensorboard\n",
    "\n",
    "# Clear any logs from previous runs\n",
    "!rm -rf ./logs/ "
   ]
  },
  {
   "cell_type": "code",
   "execution_count": 3,
   "metadata": {},
   "outputs": [],
   "source": [
    "'''import sys\n",
    "!{sys.executable} -m pip install git+https://github.com/tensorflow/docs''';"
   ]
  },
  {
   "cell_type": "code",
   "execution_count": 4,
   "metadata": {},
   "outputs": [],
   "source": [
    "import tensorflow_docs as tfdocs\n",
    "import tensorflow_docs.plots\n",
    "import tensorflow_docs.modeling"
   ]
  },
  {
   "cell_type": "markdown",
   "metadata": {
    "colab_type": "text",
    "id": "qmi8tz8lRV95"
   },
   "source": [
    "Open the dataframe as a CSV."
   ]
  },
  {
   "cell_type": "code",
   "execution_count": 5,
   "metadata": {},
   "outputs": [],
   "source": [
    "#To read the import the csv-file, use:\n",
    "raw_Options_input = pd.read_csv (r\"/Users/Marcklein/Desktop/Master Thesis/Option pricing using Neural Networks/Python/Heston/Heston_data_input1.csv\")\n",
    "raw_Options_output = pd.read_csv (r\"/Users/Marcklein/Desktop/Master Thesis/Option pricing using Neural Networks/Python/Heston/Heston_data_output1.csv\")\n",
    "\n",
    "#Creates some unnamed column in the beginning, delete it:\n",
    "del raw_Options_input['Unnamed: 0']\n",
    "del raw_Options_output['Unnamed: 0']\n"
   ]
  },
  {
   "cell_type": "code",
   "execution_count": 6,
   "metadata": {},
   "outputs": [],
   "source": [
    "Options_input = raw_Options_input.copy()\n",
    "Options_output = raw_Options_output.copy()"
   ]
  },
  {
   "cell_type": "markdown",
   "metadata": {
    "colab_type": "text",
    "id": "zY0694xARV-O"
   },
   "source": [
    "### **Data preparation**\n",
    "\n",
    "We split our dataset into a training set and a test set (validation set is taken from the training set during model.fit)."
   ]
  },
  {
   "cell_type": "code",
   "execution_count": 7,
   "metadata": {},
   "outputs": [],
   "source": [
    "# 96.67% for training and validating and the rest for testing\n",
    "train_dataset = Options_input.sample(frac=0.96666666666667, random_state=42)\n",
    "test_dataset = Options_input.drop(train_dataset.index)\n",
    "\n",
    "train_labels = Options_output.sample(frac=0.96666666666667, random_state=42)\n",
    "test_labels = Options_output.drop(train_labels.index)"
   ]
  },
  {
   "cell_type": "markdown",
   "metadata": {
    "colab_type": "text",
    "id": "yM9Vg1djRV-T"
   },
   "source": [
    "Check the overall statistics"
   ]
  },
  {
   "cell_type": "code",
   "execution_count": 8,
   "metadata": {},
   "outputs": [],
   "source": [
    "train_stats = train_dataset.describe().T\n",
    "test_stats = test_dataset.describe().T"
   ]
  },
  {
   "cell_type": "markdown",
   "metadata": {
    "colab_type": "text",
    "id": "F10IDM-ORV-W"
   },
   "source": [
    "Separate the target values from the input values. These values are the values that we will train the model to predict. We will also normalize the data due to reasons described in the thesis"
   ]
  },
  {
   "cell_type": "code",
   "execution_count": 9,
   "metadata": {},
   "outputs": [
    {
     "name": "stdout",
     "output_type": "stream",
     "text": [
      "Input train data: (290000, 7)  Output train data: (290000, 10)\n",
      "Input test data: (10000, 7)  Output test data: (10000, 10)\n"
     ]
    }
   ],
   "source": [
    "#normalize the data\n",
    "def norm(x):\n",
    "    return (x - train_stats['min']) / (train_stats['max']-train_stats['min'])\n",
    "normed_train_data = norm(train_dataset).values\n",
    "\n",
    "def norm_test(x):\n",
    "    return (x - train_stats['min']) / (train_stats['max']-train_stats['min'])\n",
    "normed_test_data = norm_test(test_dataset).values\n",
    "\n",
    "#make the labels into numpy array just like the normed training data\n",
    "train_labels = np.asarray(train_labels)\n",
    "test_labels = np.asarray(test_labels)\n",
    "\n",
    "#check the shapes\n",
    "print(\"Input train data:\", normed_train_data.shape, \" Output train data:\", train_labels.shape)\n",
    "print(\"Input test data:\", normed_test_data.shape, \" Output test data:\", test_labels.shape)"
   ]
  },
  {
   "cell_type": "markdown",
   "metadata": {
    "colab_type": "text",
    "id": "8O9gU8FqRV-c"
   },
   "source": [
    "## **The model**\n",
    "\n",
    "Now let's build the neural network with one hidden layer using tensorflow and a Sequential API.\n",
    "\n",
    "Note: This model has been primarily chosen based on the same hyperparameters as in McGhee's paper. We have also done hyper-parameter tuning in some of the other notebooks in order to find out which hyper-parameters fits out data the best."
   ]
  },
  {
   "cell_type": "code",
   "execution_count": 10,
   "metadata": {},
   "outputs": [],
   "source": [
    "input_size = len(train_dataset.keys())\n",
    "output_size = 10\n",
    "hidden_layer_size = 1000\n",
    "\n",
    "#weight and bias initializers\n",
    "weights_initializer = keras.initializers.GlorotUniform(seed=42)\n",
    "bias_initializer = keras.initializers.Zeros()\n",
    "\n",
    "def build_model():\n",
    "    model = keras.models.Sequential([\n",
    "            #Layer to be used as an entry point into a Network\n",
    "            keras.layers.InputLayer(input_shape=[len(train_dataset.keys())]),\n",
    "        \n",
    "            #Dense layer\n",
    "            keras.layers.Dense(hidden_layer_size, activation='relu', kernel_initializer = weights_initializer,\n",
    "                               bias_initializer = bias_initializer, name='Layer_1'),\n",
    "        \n",
    "            #activation function is linear since we are doing regression\n",
    "            keras.layers.Dense(output_size, activation='linear', name='Output_layer')\n",
    "                                ])\n",
    "    \n",
    "    optimizer = tf.keras.optimizers.Adam(learning_rate=0.0001, beta_1=0.9, beta_2=0.999,\n",
    "                             epsilon=1e-07, amsgrad=False, name='Adam')\n",
    "    \n",
    "    #Compiling the model\n",
    "    model.compile(optimizer=optimizer, \n",
    "                  loss='mean_squared_error', #Computes the mean of squares of errors between labels and predictions\n",
    "                  metrics=['mean_squared_error']) #Computes the mean squared error between y_true and y_pred\n",
    "\n",
    "    return model"
   ]
  },
  {
   "cell_type": "code",
   "execution_count": 11,
   "metadata": {},
   "outputs": [],
   "source": [
    "model = build_model()"
   ]
  },
  {
   "cell_type": "markdown",
   "metadata": {
    "colab_type": "text",
    "id": "jz6GAso4RV-j"
   },
   "source": [
    "Inspect the model using .summary to get a simple description of the model (there should be no non-trainable parameters)"
   ]
  },
  {
   "cell_type": "code",
   "execution_count": 12,
   "metadata": {},
   "outputs": [
    {
     "name": "stdout",
     "output_type": "stream",
     "text": [
      "Model: \"sequential\"\n",
      "_________________________________________________________________\n",
      "Layer (type)                 Output Shape              Param #   \n",
      "=================================================================\n",
      "Layer_1 (Dense)              (None, 1000)              8000      \n",
      "_________________________________________________________________\n",
      "Output_layer (Dense)         (None, 10)                10010     \n",
      "=================================================================\n",
      "Total params: 18,010\n",
      "Trainable params: 18,010\n",
      "Non-trainable params: 0\n",
      "_________________________________________________________________\n"
     ]
    }
   ],
   "source": [
    "model.summary()"
   ]
  },
  {
   "cell_type": "markdown",
   "metadata": {
    "colab_type": "text",
    "id": "_K2fl8i8RV-q"
   },
   "source": [
    "Now, try out the model. Take a batch of 10 examples from the training data and call model.predict on it. There should be no NaN, otherwise something is wrong"
   ]
  },
  {
   "cell_type": "code",
   "execution_count": 13,
   "metadata": {},
   "outputs": [
    {
     "data": {
      "text/plain": [
       "array([[-1.74318254e-01, -3.41853872e-02,  6.64113909e-02,\n",
       "        -1.48612913e-02, -8.62684101e-04, -4.40993831e-02,\n",
       "        -2.69082934e-03, -3.25982049e-02,  1.34768084e-01,\n",
       "        -1.05182841e-01],\n",
       "       [-5.68295904e-02, -3.90299261e-02,  4.34173271e-03,\n",
       "         5.02696633e-02, -1.83744673e-02, -5.11822514e-02,\n",
       "        -3.24977189e-02, -4.81120162e-02,  1.48243783e-02,\n",
       "        -1.06443144e-01],\n",
       "       [-1.30787969e-01, -3.66358273e-02,  6.32955283e-02,\n",
       "         2.63737906e-02,  1.29886512e-02, -4.73368242e-02,\n",
       "        -1.68354400e-02,  3.47421272e-03,  9.44431126e-02,\n",
       "        -2.16869581e-02],\n",
       "       [-1.02888152e-01, -1.19358068e-03,  2.92560346e-02,\n",
       "         7.56180333e-03,  1.89676397e-02, -7.38849193e-02,\n",
       "        -2.31505930e-03,  1.71275195e-02,  6.86834008e-02,\n",
       "        -7.58021697e-02],\n",
       "       [-1.41007289e-01, -4.05509286e-02,  1.25805795e-01,\n",
       "         4.15005311e-02,  4.30702157e-02, -6.37770295e-02,\n",
       "        -4.86163422e-03,  4.15872894e-02,  1.25781760e-01,\n",
       "         8.37301835e-04],\n",
       "       [-1.09030947e-01,  5.38543575e-02, -2.50856765e-02,\n",
       "         2.36481968e-02,  1.54016847e-02, -6.63704649e-02,\n",
       "         3.18146162e-02,  2.81252433e-03,  7.37276971e-02,\n",
       "        -4.33793850e-02],\n",
       "       [-1.12583920e-01,  3.23366188e-02,  1.99012160e-02,\n",
       "         4.77731926e-03,  2.30885558e-02, -6.67675287e-02,\n",
       "         8.03488865e-03,  1.97713990e-02,  7.46974796e-02,\n",
       "        -2.51544919e-02],\n",
       "       [-8.78005922e-02, -2.75444351e-02,  5.03303856e-02,\n",
       "         7.68873021e-02,  2.87872851e-02, -5.49027137e-02,\n",
       "        -4.53270860e-02, -2.20887922e-03,  4.92033586e-02,\n",
       "        -3.65679935e-02],\n",
       "       [-1.91808581e-01, -5.12287728e-02,  1.07299849e-01,\n",
       "         3.18514034e-02, -1.82838663e-02, -4.34293970e-02,\n",
       "        -1.26014799e-02,  2.07023434e-02,  1.30021498e-01,\n",
       "         9.10814852e-05],\n",
       "       [-9.31442380e-02, -4.39560786e-02,  8.75745341e-02,\n",
       "         1.61211174e-02,  2.82751024e-02, -8.60926658e-02,\n",
       "         1.26057919e-02, -2.88133640e-02,  1.07856028e-01,\n",
       "        -8.92529264e-02]], dtype=float32)"
      ]
     },
     "execution_count": 13,
     "metadata": {},
     "output_type": "execute_result"
    }
   ],
   "source": [
    "example_batch = normed_train_data[:10]\n",
    "example_result = model.predict(example_batch)\n",
    "example_result"
   ]
  },
  {
   "cell_type": "markdown",
   "metadata": {
    "colab_type": "text",
    "id": "5Jh3Niz_RV-t"
   },
   "source": [
    "Train the model for #max_epochs epochs, and record the training and validation accuracy in the history object."
   ]
  },
  {
   "cell_type": "code",
   "execution_count": 14,
   "metadata": {},
   "outputs": [
    {
     "name": "stdout",
     "output_type": "stream",
     "text": [
      "\n",
      "....................................................................................................\n",
      "....................................................................................................\n",
      "....................................................................................................\n",
      "....................................................................................................\n",
      "....................................................................................................\n",
      "....................................................................................................\n",
      "....................................................................................................\n",
      "....................................................................................................\n",
      "....................................................................................................\n",
      "....................................................................................................\n",
      "....................................................................................................\n",
      ".....................CPU times: user 6h 2min 9s, sys: 47min 32s, total: 6h 49min 42s\n",
      "Wall time: 4h 32min 38s\n"
     ]
    }
   ],
   "source": [
    "%%time\n",
    "\n",
    "# Display training progress by printing a single dot for each completed epoch\n",
    "class PrintDot(keras.callbacks.Callback):\n",
    "    def on_epoch_end(self, epoch, logs):\n",
    "        if epoch % 100 == 0: print('')\n",
    "        print('.', end='')\n",
    "\n",
    "batch_size = 32\n",
    "max_epochs = 10000000\n",
    "\n",
    "#Stop training if the val_loss has not improved over the last #number of epochs\n",
    "early_stopping = EarlyStopping(monitor='val_loss', patience=200)\n",
    "\n",
    "#log our training in order to display it to tensorboard (provides great visual effects)\n",
    "NAME = \"Heston_Tensorboard-{}\".format(int(time.time()))\n",
    "tensorboard_callback = TensorBoard(log_dir=\"logs/fit/{}\".format(NAME), histogram_freq=1)\n",
    "\n",
    "#Initialize TimeStopping callback \n",
    "time_stopping_callback = tfa.callbacks.TimeStopping(seconds=10*60*60, verbose=1)\n",
    "\n",
    "#Model checkpoint (save the best weights and biases) (change monitor to 'mean_squared_error')\n",
    "model_checkpoint = tf.keras.callbacks.ModelCheckpoint(filepath=\"logs/fit/weights.{epoch:02d}-{val_loss:.2f}.hdf5\",\n",
    "                    monitor='val_loss', verbose=1, save_best_only=True, save_weights_only=False, \n",
    "                    mode='min', save_freq='epoch', options=None)\n",
    "\n",
    "#fit the model and save it under history\n",
    "history = model.fit(normed_train_data, train_labels, \n",
    "         batch_size=batch_size, \n",
    "         epochs=max_epochs,\n",
    "         validation_split=0.08,\n",
    "         verbose=0,\n",
    "         callbacks=[early_stopping, PrintDot(), time_stopping_callback, tensorboard_callback])"
   ]
  },
  {
   "cell_type": "code",
   "execution_count": 15,
   "metadata": {},
   "outputs": [
    {
     "data": {
      "text/html": [
       "\n",
       "      <iframe id=\"tensorboard-frame-96b1635a1fbcbdfb\" width=\"100%\" height=\"800\" frameborder=\"0\">\n",
       "      </iframe>\n",
       "      <script>\n",
       "        (function() {\n",
       "          const frame = document.getElementById(\"tensorboard-frame-96b1635a1fbcbdfb\");\n",
       "          const url = new URL(\"/\", window.location);\n",
       "          url.port = 6007;\n",
       "          frame.src = url;\n",
       "        })();\n",
       "      </script>\n",
       "  "
      ],
      "text/plain": [
       "<IPython.core.display.HTML object>"
      ]
     },
     "metadata": {},
     "output_type": "display_data"
    }
   ],
   "source": [
    "%tensorboard --logdir logs/fit"
   ]
  },
  {
   "cell_type": "markdown",
   "metadata": {
    "colab_type": "text",
    "id": "_8LuwMvbRV-0"
   },
   "source": [
    "Visualize the model's training progress using the stats stored in the history object."
   ]
  },
  {
   "cell_type": "code",
   "execution_count": 16,
   "metadata": {},
   "outputs": [
    {
     "data": {
      "text/html": [
       "<div>\n",
       "<style scoped>\n",
       "    .dataframe tbody tr th:only-of-type {\n",
       "        vertical-align: middle;\n",
       "    }\n",
       "\n",
       "    .dataframe tbody tr th {\n",
       "        vertical-align: top;\n",
       "    }\n",
       "\n",
       "    .dataframe thead th {\n",
       "        text-align: right;\n",
       "    }\n",
       "</style>\n",
       "<table border=\"1\" class=\"dataframe\">\n",
       "  <thead>\n",
       "    <tr style=\"text-align: right;\">\n",
       "      <th></th>\n",
       "      <th>loss</th>\n",
       "      <th>mean_squared_error</th>\n",
       "      <th>val_loss</th>\n",
       "      <th>val_mean_squared_error</th>\n",
       "      <th>epoch</th>\n",
       "    </tr>\n",
       "  </thead>\n",
       "  <tbody>\n",
       "    <tr>\n",
       "      <th>1116</th>\n",
       "      <td>5.986215e-08</td>\n",
       "      <td>5.986215e-08</td>\n",
       "      <td>5.062283e-08</td>\n",
       "      <td>5.062283e-08</td>\n",
       "      <td>1116</td>\n",
       "    </tr>\n",
       "    <tr>\n",
       "      <th>1117</th>\n",
       "      <td>6.068688e-08</td>\n",
       "      <td>6.068688e-08</td>\n",
       "      <td>6.939363e-08</td>\n",
       "      <td>6.939363e-08</td>\n",
       "      <td>1117</td>\n",
       "    </tr>\n",
       "    <tr>\n",
       "      <th>1118</th>\n",
       "      <td>6.052121e-08</td>\n",
       "      <td>6.052121e-08</td>\n",
       "      <td>6.192004e-08</td>\n",
       "      <td>6.192004e-08</td>\n",
       "      <td>1118</td>\n",
       "    </tr>\n",
       "    <tr>\n",
       "      <th>1119</th>\n",
       "      <td>6.217742e-08</td>\n",
       "      <td>6.217742e-08</td>\n",
       "      <td>5.476961e-08</td>\n",
       "      <td>5.476961e-08</td>\n",
       "      <td>1119</td>\n",
       "    </tr>\n",
       "    <tr>\n",
       "      <th>1120</th>\n",
       "      <td>5.916436e-08</td>\n",
       "      <td>5.916436e-08</td>\n",
       "      <td>6.624857e-08</td>\n",
       "      <td>6.624857e-08</td>\n",
       "      <td>1120</td>\n",
       "    </tr>\n",
       "  </tbody>\n",
       "</table>\n",
       "</div>"
      ],
      "text/plain": [
       "              loss  mean_squared_error      val_loss  val_mean_squared_error  \\\n",
       "1116  5.986215e-08        5.986215e-08  5.062283e-08            5.062283e-08   \n",
       "1117  6.068688e-08        6.068688e-08  6.939363e-08            6.939363e-08   \n",
       "1118  6.052121e-08        6.052121e-08  6.192004e-08            6.192004e-08   \n",
       "1119  6.217742e-08        6.217742e-08  5.476961e-08            5.476961e-08   \n",
       "1120  5.916436e-08        5.916436e-08  6.624857e-08            6.624857e-08   \n",
       "\n",
       "      epoch  \n",
       "1116   1116  \n",
       "1117   1117  \n",
       "1118   1118  \n",
       "1119   1119  \n",
       "1120   1120  "
      ]
     },
     "execution_count": 16,
     "metadata": {},
     "output_type": "execute_result"
    }
   ],
   "source": [
    "hist = pd.DataFrame(history.history)\n",
    "hist['epoch'] = history.epoch\n",
    "hist.tail()"
   ]
  },
  {
   "cell_type": "markdown",
   "metadata": {},
   "source": [
    "## **Visualization**\n",
    "\n",
    "Inspirations:\n",
    "- https://www.tensorflow.org/probability/api_docs/python/tfp/distributions/GaussianProcess\n",
    "- https://www.kite.com/python/answers/how-to-plot-on-a-log-scale-with-matplotlib-in-python\n",
    "- https://stackoverflow.com/questions/60683901/tensorboard-smoothing"
   ]
  },
  {
   "cell_type": "markdown",
   "metadata": {},
   "source": [
    "Make a simple plot of the training (there is no need for this as tensorboard does it already, but still great visualizer for printing)"
   ]
  },
  {
   "cell_type": "code",
   "execution_count": 17,
   "metadata": {},
   "outputs": [
    {
     "data": {
      "image/png": "[encoded data removed]",
      "text/plain": [
       "<Figure size 1080x432 with 1 Axes>"
      ]
     },
     "metadata": {
      "needs_background": "light"
     },
     "output_type": "display_data"
    }
   ],
   "source": [
    "def plot_history(history):\n",
    "  hist = pd.DataFrame(history.history)\n",
    "  hist['epoch'] = history.epoch\n",
    "  \n",
    "  plt.figure(figsize=(15, 6))\n",
    "  plt.yscale(\"log\")\n",
    "  plt.xlabel('Epoch')\n",
    "  plt.ylabel('Mean Squared Error [imp vol ($\\Sigma$)]')\n",
    "  plt.plot(hist['epoch'], hist['mean_squared_error'],\n",
    "           label='Train Error')\n",
    "  plt.plot(hist['epoch'], hist['val_mean_squared_error'].ewm(com=0.5).mean(),\n",
    "           label = 'Val Error', alpha=0.4)\n",
    "  plt.legend()\n",
    "  \n",
    "  #plt.savefig('/Users/Marcklein/Desktop/Master Thesis/Option pricing using Neural Networks/Python/Heston/Heston_mse.png',bbox_inches='tight')\n",
    "\n",
    "  plt.show()\n",
    "\n",
    "\n",
    "plot_history(history)\n",
    "\n"
   ]
  },
  {
   "cell_type": "markdown",
   "metadata": {
    "colab_type": "text",
    "id": "OlxqNHTKRV-9"
   },
   "source": [
    "The graph shows that on the validation set, the average error is usually around +/- 7e-08\n",
    "\n",
    "Let's see how well the model generalizes by using the test set, which we did not use when training the model. This tells us how well we can expect the model to predict when we use it in the real world (we print the mean_squared_error)."
   ]
  },
  {
   "cell_type": "code",
   "execution_count": 18,
   "metadata": {},
   "outputs": [
    {
     "name": "stdout",
     "output_type": "stream",
     "text": [
      "Testing set Mean Squared Error: 0.0000000648 imp vol\n"
     ]
    }
   ],
   "source": [
    "loss, mse = model.evaluate(normed_test_data, test_labels, verbose=0)\n",
    "\n",
    "print(\"Testing set Mean Squared Error: {:5.10f} imp vol\".format(mse))"
   ]
  },
  {
   "cell_type": "markdown",
   "metadata": {},
   "source": [
    "## **ERROR DISTRIBUTION**\n",
    "\n",
    "- https://www.tensorflow.org/tutorials/keras/regression"
   ]
  },
  {
   "cell_type": "code",
   "execution_count": 19,
   "metadata": {},
   "outputs": [],
   "source": [
    "import matplotlib.ticker as mtick"
   ]
  },
  {
   "cell_type": "markdown",
   "metadata": {
    "colab_type": "text",
    "id": "ma3_HJuvRV_C"
   },
   "source": [
    "Finally, predict the implied volatility values using data in the testing set"
   ]
  },
  {
   "cell_type": "code",
   "execution_count": 20,
   "metadata": {},
   "outputs": [
    {
     "data": {
      "image/png": "[encoded data removed]",
      "text/plain": [
       "<Figure size 432x288 with 1 Axes>"
      ]
     },
     "metadata": {
      "needs_background": "light"
     },
     "output_type": "display_data"
    }
   ],
   "source": [
    "test_predictions = model.predict(normed_test_data).flatten(order=\"C\")\n",
    "\n",
    "plt.scatter(test_labels, test_predictions)\n",
    "plt.xlabel(r'True Values ($\\Sigma$)')\n",
    "plt.ylabel(r'Predictions ($\\hat{\\Sigma}$)')\n",
    "plt.axis('equal')\n",
    "plt.axis('square')\n",
    "plt.xlim([0,plt.xlim()[1]])\n",
    "plt.ylim([0,plt.ylim()[1]])\n",
    "_ = plt.plot([-100, 100], [-100, 100])"
   ]
  },
  {
   "cell_type": "markdown",
   "metadata": {},
   "source": [
    "It looks like our model predicts really well. Let's take a look at the error distribution."
   ]
  },
  {
   "cell_type": "markdown",
   "metadata": {},
   "source": [
    "### Distribution of prediction errors"
   ]
  },
  {
   "cell_type": "code",
   "execution_count": 21,
   "metadata": {},
   "outputs": [
    {
     "data": {
      "image/png": "[encoded data removed]",
      "text/plain": [
       "<Figure size 432x288 with 1 Axes>"
      ]
     },
     "metadata": {
      "needs_background": "light"
     },
     "output_type": "display_data"
    }
   ],
   "source": [
    "test_labelz = test_labels.flatten(order=\"C\")\n",
    "\n",
    "error = test_predictions - test_labelz\n",
    "plt.hist(error, bins = 200)\n",
    "plt.xlim(-0.002, 0.002)\n",
    "plt.xlabel(\"Prediction Error\")\n",
    "_ = plt.ylabel(\"Count\")"
   ]
  },
  {
   "cell_type": "markdown",
   "metadata": {},
   "source": [
    "Almost perfect gaussian distribution."
   ]
  },
  {
   "cell_type": "code",
   "execution_count": 42,
   "metadata": {},
   "outputs": [],
   "source": [
    "#Calculate R-squared\n",
    "\n",
    "def r_squared(y, y_hat):\n",
    "    y_bar = y.mean()\n",
    "    ss_tot = ((y-y_bar)**2).sum()\n",
    "    ss_res = ((y-y_hat)**2).sum()\n",
    "    return 1 - (ss_res/ss_tot)\n",
    "\n",
    "#r_squared(test_labelz, test_predictions)"
   ]
  },
  {
   "cell_type": "code",
   "execution_count": 44,
   "metadata": {},
   "outputs": [
    {
     "data": {
      "image/png": "[encoded data removed]",
      "text/plain": [
       "<Figure size 792x288 with 2 Axes>"
      ]
     },
     "metadata": {},
     "output_type": "display_data"
    }
   ],
   "source": [
    "fig, (ax1, ax2) = plt.subplots(1, 2, figsize=(11,4))\n",
    "fig.tight_layout(pad=3.0)\n",
    "\n",
    "ax1.annotate(r'$R^2$=0.999991',xy=(0.1, 0.8), fontsize=12)\n",
    "ax1.scatter(test_labels, test_predictions)\n",
    "ax1.set_xlabel(r'True Value ($\\Sigma$)')\n",
    "ax1.set_ylabel(r'Prediction ($\\hat{\\Sigma}$)')\n",
    "ax1.axis('equal')\n",
    "ax1.axis('square')\n",
    "ax1.set_xlim([0,plt.xlim()[1]])\n",
    "ax1.set_ylim([0,plt.xlim()[1]])\n",
    "ax1.plot([-100, 100], [-100, 100])\n",
    "\n",
    "ax2.hist(error, bins = 200)\n",
    "ax2.set_xlim(-0.0015, 0.002)\n",
    "ax2.set_xlabel(\"Prediction Error\")\n",
    "ax2.set_ylabel(\"Count\");\n",
    "\n",
    "#fig.savefig('/Users/Marcklein/Desktop/Master Thesis/Option pricing using Neural Networks/Python/Heston/Heston_errordist2.png',bbox_inches='tight')\n"
   ]
  },
  {
   "cell_type": "markdown",
   "metadata": {},
   "source": [
    "Now, lets look at the distribution of the errors when looking at each of the 10 different strikes (NB, this only makes sence for the Heston model since we are dealing with fixed strikes)."
   ]
  },
  {
   "cell_type": "markdown",
   "metadata": {},
   "source": [
    "### Smile error shown as a normal line chart\n",
    "\n",
    "We here show a normal line-plot where we can see that the real analytic heston formula (red) and the ANN (blue) are almost identical"
   ]
  },
  {
   "cell_type": "code",
   "execution_count": 24,
   "metadata": {},
   "outputs": [],
   "source": [
    "prediction_1 = model.predict(normed_test_data[1021:1022]).flatten() * 100\n",
    "realprediction_1 = test_labels[1021:1022].flatten() * 100\n",
    "Strikes = np.arange(0.8, 1.3, 0.05)"
   ]
  },
  {
   "cell_type": "markdown",
   "metadata": {},
   "source": [
    "The input values that we use are"
   ]
  },
  {
   "cell_type": "code",
   "execution_count": 25,
   "metadata": {},
   "outputs": [
    {
     "data": {
      "text/html": [
       "<div>\n",
       "<style scoped>\n",
       "    .dataframe tbody tr th:only-of-type {\n",
       "        vertical-align: middle;\n",
       "    }\n",
       "\n",
       "    .dataframe tbody tr th {\n",
       "        vertical-align: top;\n",
       "    }\n",
       "\n",
       "    .dataframe thead th {\n",
       "        text-align: right;\n",
       "    }\n",
       "</style>\n",
       "<table border=\"1\" class=\"dataframe\">\n",
       "  <thead>\n",
       "    <tr style=\"text-align: right;\">\n",
       "      <th></th>\n",
       "      <th>tau</th>\n",
       "      <th>r</th>\n",
       "      <th>sigma</th>\n",
       "      <th>rho</th>\n",
       "      <th>nu</th>\n",
       "      <th>theta</th>\n",
       "      <th>kappa</th>\n",
       "    </tr>\n",
       "  </thead>\n",
       "  <tbody>\n",
       "    <tr>\n",
       "      <th>31401</th>\n",
       "      <td>0.1219</td>\n",
       "      <td>0.045702</td>\n",
       "      <td>0.443298</td>\n",
       "      <td>-0.617528</td>\n",
       "      <td>0.47395</td>\n",
       "      <td>0.373747</td>\n",
       "      <td>1.042103</td>\n",
       "    </tr>\n",
       "  </tbody>\n",
       "</table>\n",
       "</div>"
      ],
      "text/plain": [
       "          tau         r     sigma       rho       nu     theta     kappa\n",
       "31401  0.1219  0.045702  0.443298 -0.617528  0.47395  0.373747  1.042103"
      ]
     },
     "execution_count": 25,
     "metadata": {},
     "output_type": "execute_result"
    }
   ],
   "source": [
    "test_dataset[1021:1022]"
   ]
  },
  {
   "cell_type": "code",
   "execution_count": 26,
   "metadata": {},
   "outputs": [
    {
     "data": {
      "image/png": "[encoded data removed]",
      "text/plain": [
       "<Figure size 720x360 with 1 Axes>"
      ]
     },
     "metadata": {
      "needs_background": "light"
     },
     "output_type": "display_data"
    }
   ],
   "source": [
    "plt.figure(figsize=(10,5))\n",
    "sns.set_style(\"white\")\n",
    "ax = sns.lineplot(x=Strikes, y=realprediction_1, color='#1f77b4', linewidth=2.5) #blue color\n",
    "ax = sns.lineplot(x=Strikes, y=prediction_1, color='#ff7f0e', linewidth=2.5) #orange color\n",
    "ax.axes.set_title(\"Implied volatility in the Heston model\", fontsize=17.5);\n",
    "ax.set(xlabel=\"Strike\", ylabel=\"implied volatility\")\n",
    "ax.legend(['Heston', 'ANN']);"
   ]
  },
  {
   "cell_type": "code",
   "execution_count": 27,
   "metadata": {},
   "outputs": [
    {
     "data": {
      "text/html": [
       "<div>\n",
       "<style scoped>\n",
       "    .dataframe tbody tr th:only-of-type {\n",
       "        vertical-align: middle;\n",
       "    }\n",
       "\n",
       "    .dataframe tbody tr th {\n",
       "        vertical-align: top;\n",
       "    }\n",
       "\n",
       "    .dataframe thead th {\n",
       "        text-align: right;\n",
       "    }\n",
       "</style>\n",
       "<table border=\"1\" class=\"dataframe\">\n",
       "  <thead>\n",
       "    <tr style=\"text-align: right;\">\n",
       "      <th></th>\n",
       "      <th>tau</th>\n",
       "      <th>r</th>\n",
       "      <th>sigma</th>\n",
       "      <th>rho</th>\n",
       "      <th>nu</th>\n",
       "      <th>theta</th>\n",
       "      <th>kappa</th>\n",
       "    </tr>\n",
       "  </thead>\n",
       "  <tbody>\n",
       "    <tr>\n",
       "      <th>31186</th>\n",
       "      <td>0.93724</td>\n",
       "      <td>0.04787</td>\n",
       "      <td>0.38758</td>\n",
       "      <td>-0.881836</td>\n",
       "      <td>0.344456</td>\n",
       "      <td>0.051596</td>\n",
       "      <td>1.493814</td>\n",
       "    </tr>\n",
       "  </tbody>\n",
       "</table>\n",
       "</div>"
      ],
      "text/plain": [
       "           tau        r    sigma       rho        nu     theta     kappa\n",
       "31186  0.93724  0.04787  0.38758 -0.881836  0.344456  0.051596  1.493814"
      ]
     },
     "execution_count": 27,
     "metadata": {},
     "output_type": "execute_result"
    }
   ],
   "source": [
    "test_dataset[1013:1014]"
   ]
  },
  {
   "cell_type": "code",
   "execution_count": 28,
   "metadata": {},
   "outputs": [
    {
     "data": {
      "text/plain": [
       "<matplotlib.legend.Legend at 0x7faf9b23be10>"
      ]
     },
     "execution_count": 28,
     "metadata": {},
     "output_type": "execute_result"
    },
    {
     "data": {
      "image/png": "[encoded data removed]",
      "text/plain": [
       "<Figure size 720x360 with 2 Axes>"
      ]
     },
     "metadata": {},
     "output_type": "display_data"
    }
   ],
   "source": [
    "prediction_2 = model.predict(normed_test_data[1013:1014]).flatten() * 100\n",
    "realprediction_2 = test_labels[1013:1014].flatten() * 100\n",
    "\n",
    "fig = plt.figure(figsize=(10,5))\n",
    "sns.set_style(\"white\")\n",
    "ax = sns.lineplot(x=Strikes, y=realprediction_1, color='#1f77b4', linewidth=2.5, label='Heston 1') #blue color\n",
    "ax = sns.lineplot(x=Strikes, y=prediction_1, color='#ff7f0e', linewidth=2.5, label='ANN 1') #orange color\n",
    "ax.axes.set_title(\"Implied volatility in the Heston model\", fontsize=17.5);\n",
    "ax.set(xlabel=\"Strike\", ylabel=\"implied volatility 1\")\n",
    "ax1 = ax.twinx()\n",
    "ax1 = sns.lineplot(x=Strikes, y=realprediction_2, color='#9467bd', linewidth=2.5, label='Heston 2') #blue color\n",
    "ax1 = sns.lineplot(x=Strikes, y=prediction_2, color='#8c564b', linewidth=2.5,label='ANN 2') #orange color\n",
    "ax1.set(xlabel=\"Strike\", ylabel=\"implied volatility 2\")\n",
    "fig.legend(loc=\"upper right\", bbox_to_anchor=(1,1), bbox_transform=ax.transAxes)"
   ]
  },
  {
   "cell_type": "markdown",
   "metadata": {},
   "source": [
    "Lets just smooth the function by interpolating between our known values:\n",
    "\n",
    "- https://www.kite.com/python/answers/how-to-plot-a-smooth-line-with-matplotlib-in-python\n",
    "- https://docs.scipy.org/doc/scipy/reference/generated/scipy.interpolate.CubicSpline.html"
   ]
  },
  {
   "cell_type": "code",
   "execution_count": 29,
   "metadata": {},
   "outputs": [],
   "source": [
    "from scipy.interpolate import CubicSpline\n",
    "from tabulate import tabulate"
   ]
  },
  {
   "cell_type": "code",
   "execution_count": 30,
   "metadata": {},
   "outputs": [
    {
     "name": "stdout",
     "output_type": "stream",
     "text": [
      "Input data for (1):\n",
      " -----  ------  ---------  --------  ---------  -------  --------  ------\n",
      "31401  0.1219  0.0457023  0.443298  -0.617528  0.47395  0.373747  1.0421\n",
      "-----  ------  ---------  --------  ---------  -------  --------  ------\n",
      "Input data for (2):\n",
      "            tau        r    sigma       rho        nu     theta     kappa\n",
      "31186  0.93724  0.04787  0.38758 -0.881836  0.344456  0.051596  1.493814\n"
     ]
    }
   ],
   "source": [
    "print(\"Input data for (1):\\n\", tabulate(test_dataset[1021:1022]))\n",
    "print(\"Input data for (2):\\n\", test_dataset[1013:1014])"
   ]
  },
  {
   "cell_type": "code",
   "execution_count": 31,
   "metadata": {},
   "outputs": [
    {
     "data": {
      "text/plain": [
       "<matplotlib.legend.Legend at 0x7faf9d260590>"
      ]
     },
     "execution_count": 31,
     "metadata": {},
     "output_type": "execute_result"
    },
    {
     "data": {
      "image/png": "[encoded data removed]",
      "text/plain": [
       "<Figure size 1296x432 with 4 Axes>"
      ]
     },
     "metadata": {},
     "output_type": "display_data"
    }
   ],
   "source": [
    "#increase the steps in the strike range\n",
    "x_new = np.linspace(min(Strikes), max(Strikes), 1000)\n",
    "\n",
    "# interpolation for the predicted outputs\n",
    "Spline_1 = CubicSpline(Strikes, prediction_1)\n",
    "Spline_2 = CubicSpline(Strikes, prediction_2)\n",
    "y_1 = Spline_1(x_new)\n",
    "y_2 = Spline_2(x_new)\n",
    "\n",
    "#interpolation for the real output\n",
    "Spline_r1 = CubicSpline(Strikes, realprediction_1)\n",
    "Spline_r2 = CubicSpline(Strikes, realprediction_2)\n",
    "y_r1 = Spline_r1(x_new)\n",
    "y_r2 = Spline_r2(x_new)\n",
    "\n",
    "#volatility smile error\n",
    "y1_error = y_1 - y_r1\n",
    "y2_error= y_2 - y_r2\n",
    "\n",
    "\n",
    "#The plot itself\n",
    "fig, (ax1, ax2) = plt.subplots(1, 2, figsize=(18,6))\n",
    "fig.subplots_adjust(wspace=0.3)\n",
    "sns.set_style(\"white\")\n",
    "\n",
    "sns.lineplot(x=x_new, y=y_r1, color='#1f77b4', linewidth=2., ax=ax1, label='Heston (1)')\n",
    "sns.lineplot(x=x_new, y=y_1, color='#ff7f0e', linewidth=2., ax=ax1, label='ANN (1)')\n",
    "ax1.axes.set_title(\"Volatility Smile Functions (ANN and Heston)\", fontsize=10)\n",
    "ax1.set(xlabel=\"Strike\", ylabel=\"Implied volatility (1)\")\n",
    "ax1.yaxis.set_major_formatter(mtick.PercentFormatter())\n",
    "ax1.legend(loc=\"lower left\")\n",
    "ax11 = ax1.twinx()\n",
    "sns.lineplot(x=x_new, y=y_r2, color='#2ca02c', linewidth=2., ax=ax11, label='Heston (2)')\n",
    "sns.lineplot(x=x_new, y=y_2, color='#d62728', linewidth=2., ax=ax11, label='ANN (2)')\n",
    "ax11.set(ylabel='Implied volatility (2)')\n",
    "ax11.yaxis.set_major_formatter(mtick.PercentFormatter())\n",
    "ax11.legend(loc=\"upper right\")\n",
    "\n",
    "sns.lineplot(x=x_new, y=y1_error, color='#ff7f0e', linewidth=2., ax=ax2, label='Error ANN (1)')\n",
    "ax2.axes.set_title(\"Volatility Smile Error (ANN - Heston)\", fontsize=10)\n",
    "ax2.set(xlabel=\"Strike\", ylabel=\"Error (1)\")\n",
    "ax2.yaxis.set_major_formatter(mtick.PercentFormatter())\n",
    "ax2.legend(loc=\"lower left\")\n",
    "ax22 = ax2.twinx()\n",
    "sns.lineplot(x=x_new, y=y2_error, color='#d62728', linewidth=2., ax=ax22, label='Error ANN (2)')\n",
    "ax22.set(ylabel=\"Error (2)\")\n",
    "ax22.yaxis.set_major_formatter(mtick.PercentFormatter())\n",
    "ax22.legend(loc=\"upper right\")\n",
    "\n",
    "#fig.savefig('/Users/Marcklein/Desktop/Master Thesis/Option pricing using Neural Networks/Python/Heston/Heston_smiles.png',bbox_inches='tight')"
   ]
  },
  {
   "cell_type": "markdown",
   "metadata": {},
   "source": [
    "## **CDF and PDF**\n",
    "\n",
    "- https://machinelearningmastery.com/statistical-data-distributions/\n",
    "- https://docs.scipy.org/doc/scipy/reference/generated/scipy.stats.rv_continuous.cdf.html\n",
    "- https://stackoverflow.com/questions/24788200/calculate-the-cumulative-distribution-function-cdf-in-python\n",
    "- https://docs.scipy.org/doc/scipy/reference/tutorial/stats.html\n",
    "- https://en.wikipedia.org/wiki/Finite_difference\n",
    "\n",
    "\n",
    "In order to find the PDF (and from that the CDF) we will use the Breeden and Litzenberger formula. Also, to compute the first and second derivative of the pdf we will use numerical differentiation.\n",
    "\n",
    "$\\textbf{PDF}$: \n",
    "A probability density function (PDF), or density of a continuous random variable, is a function whose value at any given sample (or point) in the sample space (the set of possible values taken by the random variable) can be interpreted as providing a relative likelihood that the value of the random variable would equal that sample. In other words, while the absolute likelihood for a continuous random variable to take on any particular value is 0 (since there are an infinite set of possible values to begin with), the value of the PDF at two different samples can be used to infer, in any particular draw of the random variable, how much more likely it is that the random variable would equal one sample compared to the other sample.\n",
    "\n",
    "In a more precise sense, the PDF is used to specify the probability of the random variable falling within a particular range of values, as opposed to taking on any one value. This probability is given by the integral of this variable's PDF over that range—that is, it is given by the area under the density function but above the horizontal axis and between the lowest and greatest values of the range. The probability density function is nonnegative everywhere, and its integral over the entire space is equal to 1.\n",
    "\n",
    "$$\n",
    "f(X)=\\frac{d(F(x))}{dx}\n",
    "$$\n",
    "\n",
    "$\\textbf{CDF}$: \n",
    "The cumulative distribution function (CDF) of a real-valued random variable X, or just distribution function of X, evaluated at x, is the probability that X will take a value less than or equal to x.\n",
    "\n",
    "In the case of a scalar continuous distribution, it gives the area under the probability density function from minus infinity to x. \n",
    "\n",
    "$$\n",
    "F(X)=\\int_{0}^{x}f(s) \\qquad \\text{where s is a dummy integration variable}\n",
    "$$"
   ]
  },
  {
   "cell_type": "code",
   "execution_count": 32,
   "metadata": {},
   "outputs": [],
   "source": [
    "from scipy.integrate import quad"
   ]
  },
  {
   "cell_type": "code",
   "execution_count": 33,
   "metadata": {},
   "outputs": [
    {
     "data": {
      "text/html": [
       "<div>\n",
       "<style scoped>\n",
       "    .dataframe tbody tr th:only-of-type {\n",
       "        vertical-align: middle;\n",
       "    }\n",
       "\n",
       "    .dataframe tbody tr th {\n",
       "        vertical-align: top;\n",
       "    }\n",
       "\n",
       "    .dataframe thead th {\n",
       "        text-align: right;\n",
       "    }\n",
       "</style>\n",
       "<table border=\"1\" class=\"dataframe\">\n",
       "  <thead>\n",
       "    <tr style=\"text-align: right;\">\n",
       "      <th></th>\n",
       "      <th>tau</th>\n",
       "      <th>r</th>\n",
       "      <th>sigma</th>\n",
       "      <th>rho</th>\n",
       "      <th>nu</th>\n",
       "      <th>theta</th>\n",
       "      <th>kappa</th>\n",
       "    </tr>\n",
       "  </thead>\n",
       "  <tbody>\n",
       "    <tr>\n",
       "      <th>31401</th>\n",
       "      <td>0.1219</td>\n",
       "      <td>0.045702</td>\n",
       "      <td>0.443298</td>\n",
       "      <td>-0.617528</td>\n",
       "      <td>0.47395</td>\n",
       "      <td>0.373747</td>\n",
       "      <td>1.042103</td>\n",
       "    </tr>\n",
       "  </tbody>\n",
       "</table>\n",
       "</div>"
      ],
      "text/plain": [
       "          tau         r     sigma       rho       nu     theta     kappa\n",
       "31401  0.1219  0.045702  0.443298 -0.617528  0.47395  0.373747  1.042103"
      ]
     },
     "execution_count": 33,
     "metadata": {},
     "output_type": "execute_result"
    }
   ],
   "source": [
    "data_outputs = test_dataset[1021:1022]\n",
    "data_outputs"
   ]
  },
  {
   "cell_type": "code",
   "execution_count": 34,
   "metadata": {},
   "outputs": [],
   "source": [
    "pred_cdfpdf = model.predict(normed_test_data[1021:1022]).flatten()\n",
    "real_cdfpdf = test_labels[1021:1022].flatten()\n",
    "K_cdfpdf = np.arange(0.8, 1.3, 0.05)\n",
    "inputs_data = (data_outputs.values).flatten()\n",
    "\n",
    "#plt.plot(K_cdfpdf, pred_cdfpdf);"
   ]
  },
  {
   "cell_type": "markdown",
   "metadata": {},
   "source": [
    "interpolate the strikes and implied volatility"
   ]
  },
  {
   "cell_type": "code",
   "execution_count": 35,
   "metadata": {},
   "outputs": [],
   "source": [
    "#x = np.linspace(min(K_cdfpdf), max(K_cdfpdf), 200)\n",
    "x = np.linspace(0.5, 1.5, 200) #extrapolating a bit\n",
    "\n",
    "cs = CubicSpline(K_cdfpdf, pred_cdfpdf)\n",
    "# y= interpolated imp vol predictions\n",
    "y = cs(x)\n",
    "\n",
    "cs_real = CubicSpline(K_cdfpdf, real_cdfpdf)\n",
    "# y_real = interpolated real imp vol\n",
    "y_real = cs_real(x)\n",
    "#plt.plot(x, y);"
   ]
  },
  {
   "cell_type": "markdown",
   "metadata": {},
   "source": [
    "In order to calculate the probability density function, we will use the Breeden and Litzenberger formula:\n",
    "$$\n",
    "f_Q(X_T)=e^{r\\tau}\\frac{\\partial C_{BS}(X_T)}{\\partial X_T^2}\\approx e^{r\\tau}\\frac{C(K+\\Delta_K,T)-2C(K,T)+C(K-\\Delta_K,T)}{(\\Delta_K)^2}\n",
    "$$\n",
    "\n",
    "We will therefore calculate the BSM call prices using the above strikes and implied volatilities"
   ]
  },
  {
   "cell_type": "code",
   "execution_count": 36,
   "metadata": {},
   "outputs": [],
   "source": [
    "def euro_vanilla(S_t, K, t, T, r, sigma, option = ''):\n",
    "    d1 = (np.log(S_t/K)+(r+0.5*sigma**2)*(T-t))/(sigma*np.sqrt(T-t))\n",
    "    d2 = (np.log(S_t/K)+(r-0.5*sigma**2)*(T-t))/(sigma*np.sqrt(T-t))\n",
    "    \n",
    "    if option == 'call':\n",
    "        result = S_t*norm.cdf(d1, 0.0, 1.0)-K*np.exp(-r*(T-t))*norm.cdf(d2, 0.0, 1.0)\n",
    "    if option == 'put':\n",
    "        result = K*np.exp(-r*(T-t))*norm.cdf(-d2, 0.0, 1.0)-S_t*norm.cdf(-d1, 0.0, 1.0)\n",
    "    \n",
    "    return result"
   ]
  },
  {
   "cell_type": "code",
   "execution_count": 37,
   "metadata": {},
   "outputs": [
    {
     "ename": "AttributeError",
     "evalue": "'function' object has no attribute 'cdf'",
     "output_type": "error",
     "traceback": [
      "\u001b[0;31m---------------------------------------------------------------------------\u001b[0m",
      "\u001b[0;31mAttributeError\u001b[0m                            Traceback (most recent call last)",
      "\u001b[0;32m<ipython-input-37-b07a8e4745a3>\u001b[0m in \u001b[0;36m<module>\u001b[0;34m\u001b[0m\n\u001b[1;32m      8\u001b[0m \u001b[0mcall_real\u001b[0m \u001b[0;34m=\u001b[0m \u001b[0;34m[\u001b[0m\u001b[0;34m]\u001b[0m\u001b[0;34m\u001b[0m\u001b[0;34m\u001b[0m\u001b[0m\n\u001b[1;32m      9\u001b[0m \u001b[0;32mfor\u001b[0m \u001b[0mi\u001b[0m \u001b[0;32min\u001b[0m \u001b[0mrange\u001b[0m\u001b[0;34m(\u001b[0m\u001b[0mlen\u001b[0m\u001b[0;34m(\u001b[0m\u001b[0mx\u001b[0m\u001b[0;34m)\u001b[0m\u001b[0;34m)\u001b[0m\u001b[0;34m:\u001b[0m\u001b[0;34m\u001b[0m\u001b[0;34m\u001b[0m\u001b[0m\n\u001b[0;32m---> 10\u001b[0;31m     \u001b[0mBSM_pred\u001b[0m \u001b[0;34m=\u001b[0m \u001b[0meuro_vanilla\u001b[0m\u001b[0;34m(\u001b[0m\u001b[0mS_t\u001b[0m\u001b[0;34m=\u001b[0m\u001b[0mS\u001b[0m\u001b[0;34m,\u001b[0m \u001b[0mK\u001b[0m\u001b[0;34m=\u001b[0m\u001b[0mx\u001b[0m\u001b[0;34m[\u001b[0m\u001b[0mi\u001b[0m\u001b[0;34m]\u001b[0m\u001b[0;34m,\u001b[0m \u001b[0mt\u001b[0m\u001b[0;34m=\u001b[0m\u001b[0mt\u001b[0m\u001b[0;34m,\u001b[0m \u001b[0mT\u001b[0m\u001b[0;34m=\u001b[0m\u001b[0mtau\u001b[0m\u001b[0;34m,\u001b[0m \u001b[0mr\u001b[0m\u001b[0;34m=\u001b[0m\u001b[0mr\u001b[0m\u001b[0;34m,\u001b[0m \u001b[0msigma\u001b[0m\u001b[0;34m=\u001b[0m\u001b[0my\u001b[0m\u001b[0;34m[\u001b[0m\u001b[0mi\u001b[0m\u001b[0;34m]\u001b[0m\u001b[0;34m,\u001b[0m \u001b[0moption\u001b[0m \u001b[0;34m=\u001b[0m \u001b[0;34m'call'\u001b[0m\u001b[0;34m)\u001b[0m\u001b[0;34m\u001b[0m\u001b[0;34m\u001b[0m\u001b[0m\n\u001b[0m\u001b[1;32m     11\u001b[0m     \u001b[0mcall_pred\u001b[0m\u001b[0;34m.\u001b[0m\u001b[0mappend\u001b[0m\u001b[0;34m(\u001b[0m\u001b[0mBSM_pred\u001b[0m\u001b[0;34m)\u001b[0m\u001b[0;34m\u001b[0m\u001b[0;34m\u001b[0m\u001b[0m\n\u001b[1;32m     12\u001b[0m \u001b[0;34m\u001b[0m\u001b[0m\n",
      "\u001b[0;32m<ipython-input-36-10651e434b91>\u001b[0m in \u001b[0;36meuro_vanilla\u001b[0;34m(S_t, K, t, T, r, sigma, option)\u001b[0m\n\u001b[1;32m      4\u001b[0m \u001b[0;34m\u001b[0m\u001b[0m\n\u001b[1;32m      5\u001b[0m     \u001b[0;32mif\u001b[0m \u001b[0moption\u001b[0m \u001b[0;34m==\u001b[0m \u001b[0;34m'call'\u001b[0m\u001b[0;34m:\u001b[0m\u001b[0;34m\u001b[0m\u001b[0;34m\u001b[0m\u001b[0m\n\u001b[0;32m----> 6\u001b[0;31m         \u001b[0mresult\u001b[0m \u001b[0;34m=\u001b[0m \u001b[0mS_t\u001b[0m\u001b[0;34m*\u001b[0m\u001b[0mnorm\u001b[0m\u001b[0;34m.\u001b[0m\u001b[0mcdf\u001b[0m\u001b[0;34m(\u001b[0m\u001b[0md1\u001b[0m\u001b[0;34m,\u001b[0m \u001b[0;36m0.0\u001b[0m\u001b[0;34m,\u001b[0m \u001b[0;36m1.0\u001b[0m\u001b[0;34m)\u001b[0m\u001b[0;34m-\u001b[0m\u001b[0mK\u001b[0m\u001b[0;34m*\u001b[0m\u001b[0mnp\u001b[0m\u001b[0;34m.\u001b[0m\u001b[0mexp\u001b[0m\u001b[0;34m(\u001b[0m\u001b[0;34m-\u001b[0m\u001b[0mr\u001b[0m\u001b[0;34m*\u001b[0m\u001b[0;34m(\u001b[0m\u001b[0mT\u001b[0m\u001b[0;34m-\u001b[0m\u001b[0mt\u001b[0m\u001b[0;34m)\u001b[0m\u001b[0;34m)\u001b[0m\u001b[0;34m*\u001b[0m\u001b[0mnorm\u001b[0m\u001b[0;34m.\u001b[0m\u001b[0mcdf\u001b[0m\u001b[0;34m(\u001b[0m\u001b[0md2\u001b[0m\u001b[0;34m,\u001b[0m \u001b[0;36m0.0\u001b[0m\u001b[0;34m,\u001b[0m \u001b[0;36m1.0\u001b[0m\u001b[0;34m)\u001b[0m\u001b[0;34m\u001b[0m\u001b[0;34m\u001b[0m\u001b[0m\n\u001b[0m\u001b[1;32m      7\u001b[0m     \u001b[0;32mif\u001b[0m \u001b[0moption\u001b[0m \u001b[0;34m==\u001b[0m \u001b[0;34m'put'\u001b[0m\u001b[0;34m:\u001b[0m\u001b[0;34m\u001b[0m\u001b[0;34m\u001b[0m\u001b[0m\n\u001b[1;32m      8\u001b[0m         \u001b[0mresult\u001b[0m \u001b[0;34m=\u001b[0m \u001b[0mK\u001b[0m\u001b[0;34m*\u001b[0m\u001b[0mnp\u001b[0m\u001b[0;34m.\u001b[0m\u001b[0mexp\u001b[0m\u001b[0;34m(\u001b[0m\u001b[0;34m-\u001b[0m\u001b[0mr\u001b[0m\u001b[0;34m*\u001b[0m\u001b[0;34m(\u001b[0m\u001b[0mT\u001b[0m\u001b[0;34m-\u001b[0m\u001b[0mt\u001b[0m\u001b[0;34m)\u001b[0m\u001b[0;34m)\u001b[0m\u001b[0;34m*\u001b[0m\u001b[0mnorm\u001b[0m\u001b[0;34m.\u001b[0m\u001b[0mcdf\u001b[0m\u001b[0;34m(\u001b[0m\u001b[0;34m-\u001b[0m\u001b[0md2\u001b[0m\u001b[0;34m,\u001b[0m \u001b[0;36m0.0\u001b[0m\u001b[0;34m,\u001b[0m \u001b[0;36m1.0\u001b[0m\u001b[0;34m)\u001b[0m\u001b[0;34m-\u001b[0m\u001b[0mS_t\u001b[0m\u001b[0;34m*\u001b[0m\u001b[0mnorm\u001b[0m\u001b[0;34m.\u001b[0m\u001b[0mcdf\u001b[0m\u001b[0;34m(\u001b[0m\u001b[0;34m-\u001b[0m\u001b[0md1\u001b[0m\u001b[0;34m,\u001b[0m \u001b[0;36m0.0\u001b[0m\u001b[0;34m,\u001b[0m \u001b[0;36m1.0\u001b[0m\u001b[0;34m)\u001b[0m\u001b[0;34m\u001b[0m\u001b[0;34m\u001b[0m\u001b[0m\n",
      "\u001b[0;31mAttributeError\u001b[0m: 'function' object has no attribute 'cdf'"
     ]
    }
   ],
   "source": [
    "#inputs: \n",
    "S = 1.\n",
    "t = 0.\n",
    "tau = (data_outputs.values).flatten()[0]\n",
    "r = (data_outputs.values).flatten()[1]\n",
    "\n",
    "call_pred = []\n",
    "call_real = []\n",
    "for i in range(len(x)):\n",
    "    BSM_pred = euro_vanilla(S_t=S, K=x[i], t=t, T=tau, r=r, sigma=y[i], option = 'call')\n",
    "    call_pred.append(BSM_pred)\n",
    "    \n",
    "    BSM_real = euro_vanilla(S_t=S, K=x[i], t=t, T=tau, r=r, sigma=y_real[i], option = 'call')\n",
    "    call_real.append(BSM_real)"
   ]
  },
  {
   "cell_type": "markdown",
   "metadata": {},
   "source": [
    "Now we will use the above breeden litzenberger formula"
   ]
  },
  {
   "cell_type": "code",
   "execution_count": null,
   "metadata": {},
   "outputs": [],
   "source": [
    "pdf_pred = []\n",
    "pdf_real = []\n",
    "for i in range(1,len(x)-1):\n",
    "    PDF_pred = np.exp(r*tau) * (call_pred[i+1] - 2*call_pred[i] + call_pred[i-1]) / ((x[i+1] - x[i])**2)\n",
    "    pdf_pred.append(PDF_pred)\n",
    "    \n",
    "    PDF_real = np.exp(r*tau) * (call_real[i+1] - 2*call_real[i] + call_real[i-1]) / ((x[i+1] - x[i])**2)\n",
    "    pdf_real.append(PDF_real)"
   ]
  },
  {
   "cell_type": "code",
   "execution_count": null,
   "metadata": {},
   "outputs": [],
   "source": [
    "plt.plot(x[1:199],pdf_pred)\n",
    "plt.plot(x[1:199],pdf_real)\n",
    "plt.legend(['ANN', 'Heston'])"
   ]
  },
  {
   "cell_type": "markdown",
   "metadata": {},
   "source": [
    "And for the CDF we simply do the following: "
   ]
  },
  {
   "cell_type": "code",
   "execution_count": null,
   "metadata": {},
   "outputs": [],
   "source": [
    "cdf_pred = np.cumsum(pdf_pred) / np.sum(pdf_pred)\n",
    "cdf_real = np.cumsum(pdf_real) / np.sum(pdf_real)\n",
    "plt.plot(x[1:199], cdf_pred)\n",
    "plt.plot(x[1:199], cdf_real)\n",
    "plt.legend(['ANN', 'Heston'])"
   ]
  },
  {
   "cell_type": "markdown",
   "metadata": {},
   "source": [
    "Now we calculate the percent error (in terms of the ANN and the true Heston model) of the smile, the PDF and the CDF"
   ]
  },
  {
   "cell_type": "code",
   "execution_count": null,
   "metadata": {},
   "outputs": [],
   "source": [
    "#Smile error\n",
    "smile_error = y - y_real\n",
    "#plt.plot(x, smile_error)\n",
    "\n",
    "#CDF error\n",
    "cdf_error = cdf_pred-cdf_real\n",
    "#plt.plot(x[1:199],cdf_error)\n",
    "\n",
    "#PDF error\n",
    "pdf_error = np.asarray(pdf_pred) - np.asarray(pdf_real)\n",
    "#plt.plot(x[1:199],pdf_error)"
   ]
  },
  {
   "cell_type": "code",
   "execution_count": null,
   "metadata": {},
   "outputs": [],
   "source": [
    "'''\n",
    "If we want to se what the min, max, mean, variance, skewness, kurtosis is\n",
    "''';\n",
    "#stats.describe(smile_error)\n",
    "#stats.describe(cdf_error)\n",
    "#stats.describe(pdf_error)"
   ]
  },
  {
   "cell_type": "markdown",
   "metadata": {},
   "source": [
    "Collect it all and plot it such that it looks like McGhees work on page 17"
   ]
  },
  {
   "cell_type": "code",
   "execution_count": null,
   "metadata": {},
   "outputs": [],
   "source": [
    "fig, axs = plt.subplots(2, 3, figsize=(10,9), constrained_layout=True)\n",
    "sns.set_style(\"white\")\n",
    "\n",
    "sns.lineplot(x=x[1:199], y=y_real[1:199]*100, color='#1f77b4', linewidth=2., ax=axs[0,0])\n",
    "sns.lineplot(x=x[1:199], y=y[1:199]*100, color='#ff7f0e', linewidth=2., ax=axs[0,0])\n",
    "axs[0,0].axes.set_title(\"Volatility Smile Functions\", fontsize=10)\n",
    "#ax1.set(xlabel=\"Strike\", ylabel=\"Implied volatility\")\n",
    "axs[0,0].yaxis.set_major_formatter(mtick.PercentFormatter())\n",
    "axs[0,0].legend(['Heston', 'ANN']);\n",
    "\n",
    "sns.lineplot(x=x[1:199], y=cdf_real*100, color='#1f77b4', linewidth=2., ax=axs[0,1])\n",
    "sns.lineplot(x=x[1:199], y=cdf_pred*100, color='#ff7f0e', linewidth=2., ax=axs[0,1])\n",
    "axs[0,1].axes.set_title(\"Implied Cumulative Density\", fontsize=10)\n",
    "#ax2.set(xlabel=\"Strike\", ylabel=\"Error\")\n",
    "axs[0,1].yaxis.set_major_formatter(mtick.PercentFormatter())\n",
    "axs[0,1].legend(['Heston', 'ANN'])\n",
    "\n",
    "sns.lineplot(x=x[1:199], y=np.asarray(pdf_real)*100, color='#1f77b4', linewidth=2., ax=axs[0,2])\n",
    "sns.lineplot(x=x[1:199], y=np.asarray(pdf_pred)*100, color='#ff7f0e', linewidth=2., ax=axs[0,2])\n",
    "axs[0,2].axes.set_title(\"Implied Probability Density\", fontsize=10)\n",
    "#ax2.set(xlabel=\"Strike\", ylabel=\"Error\")\n",
    "axs[0,2].yaxis.set_major_formatter(mtick.PercentFormatter())\n",
    "axs[0,2].legend(['Heston', 'ANN'])\n",
    "\n",
    "sns.lineplot(x=x[1:199], y=smile_error[1:199]*100, color='#1f77b4', linewidth=2., ax=axs[1,0])\n",
    "axs[1,0].axes.set_title(\"Smile: ANN - Heston\", fontsize=10)\n",
    "axs[1,0].yaxis.set_major_formatter(mtick.PercentFormatter())\n",
    "\n",
    "sns.lineplot(x=x[1:199], y=cdf_error*100, color='#1f77b4', linewidth=2., ax=axs[1,1])\n",
    "axs[1,1].axes.set_title(\"CDF: ANN - Heston\", fontsize=10)\n",
    "axs[1,1].yaxis.set_major_formatter(mtick.PercentFormatter())\n",
    "\n",
    "sns.lineplot(x=x[1:199], y=pdf_error*100, color='#1f77b4', linewidth=2., ax=axs[1,2])\n",
    "axs[1,2].axes.set_title(\"PDF: ANN - Heston\", fontsize=10)\n",
    "axs[1,2].yaxis.set_major_formatter(mtick.PercentFormatter())\n",
    "\n",
    "#fig.savefig('/Users/Marcklein/Desktop/Master Thesis/Option pricing using Neural Networks/Python/Heston/Heston_cdfpdf.png',bbox_inches='tight')"
   ]
  },
  {
   "cell_type": "markdown",
   "metadata": {},
   "source": [
    "### Percent deviation of errors boxplot"
   ]
  },
  {
   "cell_type": "code",
   "execution_count": null,
   "metadata": {},
   "outputs": [],
   "source": [
    "# MSE for the test_data\n",
    "prediction_mse = np.subtract(model.predict(normed_test_data),test_labels)\n",
    "\n",
    "# Percent deviation from the true data aka test_labels\n",
    "percent_deviation = pd.DataFrame(np.subtract(model.predict(normed_test_data),test_labels)*100)\n",
    "#percent_deviation = pd.DataFrame(np.divide(np.subtract(model.predict(normed_test_data),test_labels),test_labels)*100)\n",
    "percent_deviation = percent_deviation.rename(columns={0: 'K1=0.80', 1: 'K2=0.85', 2: 'K3=0.90', 3: 'K4=0.95', 4: 'K5=1.00', 5: 'K6=1.05', 6: 'K7=1.10',\n",
    "                                                       7: 'K8=1.15', 8: 'K9=1.20', 9: 'K10=1.25'})"
   ]
  },
  {
   "cell_type": "code",
   "execution_count": null,
   "metadata": {},
   "outputs": [],
   "source": [
    "df = pd.DataFrame(percent_deviation)\n",
    "print(\"The lowest mean squared error for each strike:\\n\", df.min())\n",
    "print(\"\\nThe highest mean squared error for each strike:\\n\", df.max())\n",
    "#print(prediction_mse.max())"
   ]
  },
  {
   "cell_type": "code",
   "execution_count": null,
   "metadata": {},
   "outputs": [],
   "source": [
    "fig, ax = plt.subplots(figsize=(15,8))\n",
    "\n",
    "sns.set_style(\"whitegrid\") \n",
    "\n",
    "sns.boxplot(data=percent_deviation, ax=ax, palette=\"deep\",\n",
    "           width=0.5)\n",
    "\n",
    "ax.set_xlabel('Strike', fontsize=12)\n",
    "ax.set_ylabel('Deviation', fontsize=12)\n",
    "ax.yaxis.set_major_formatter(mtick.PercentFormatter())\n",
    "#ax.set_title('Predicted values percent deviation from actual values', fontsize=20);\n",
    "#sns.despine(left=True) #removes the lines to the left and right\n",
    "\n",
    "#fig.savefig('/Users/Marcklein/Desktop/Master Thesis/Option pricing using Neural Networks/Python/Heston/Heston_boxplot.png',bbox_inches='tight')"
   ]
  },
  {
   "cell_type": "markdown",
   "metadata": {},
   "source": [
    "Excluding the outliers, we get:"
   ]
  },
  {
   "cell_type": "code",
   "execution_count": null,
   "metadata": {},
   "outputs": [],
   "source": [
    "fig, ax = plt.subplots(figsize=(15,8))\n",
    "\n",
    "sns.set_style(\"whitegrid\") \n",
    "\n",
    "sns.boxplot(data=percent_deviation, ax=ax, palette=\"deep\",\n",
    "           width=0.5, showfliers=False)\n",
    "\n",
    "ax.set_xlabel('Strike', fontsize=12)\n",
    "ax.set_ylabel('Deviation', fontsize=12)\n",
    "ax.yaxis.set_major_formatter(mtick.PercentFormatter())\n"
   ]
  },
  {
   "cell_type": "markdown",
   "metadata": {},
   "source": [
    "**Interpreting the boxplot:**\n",
    "\n",
    "Boxplot is a chart that is used to visualize how a given data (variable) is distributed using quartiles. It shows the minimum, maximum, median, first quartile and third quartile in the data set. Let’s take the first box plot i.e, blue box plot of the figure and understand these statistics:\n",
    "- Bottom black horizontal line of blue box plot is minimum value \n",
    "- First black horizontal line of rectangle shape of blue box plot is First quartile or 25%\n",
    "- Second black horizontal line of rectangle shape of blue box plot is Second quartile or 50% or median\n",
    "- Third black horizontal line of rectangle shape of blue box plot is third quartile or 75%\n",
    "- Top black horizontal line of rectangle shape of blue box plot is maximum value.\n",
    "- Small diamond shape of blue box plot is outlier data or erroneous data\n",
    "\n",
    "The negative outlies signifies that the predicted implied volatilities is lower than the actual implied volatilities. The positive ourliers signifies that the predicted implied volatilities is higher than the actual implied volatilities."
   ]
  },
  {
   "cell_type": "markdown",
   "metadata": {},
   "source": [
    "### Percent deviation of errors scatterplot"
   ]
  },
  {
   "cell_type": "code",
   "execution_count": null,
   "metadata": {},
   "outputs": [],
   "source": [
    "test_dataset_tau = []\n",
    "test_dataset_r = []\n",
    "test_dataset_sigma = []\n",
    "test_dataset_rho = []\n",
    "test_dataset_nu = []\n",
    "test_dataset_theta = []\n",
    "test_dataset_kappa = []\n",
    "\n",
    "for i in range(10):\n",
    "    test_dataset_tau.append(test_dataset['tau'])\n",
    "    test_dataset_r.append(test_dataset['r'])\n",
    "    test_dataset_sigma.append(test_dataset['sigma'])\n",
    "    test_dataset_rho.append(test_dataset['rho'])\n",
    "    test_dataset_nu.append(test_dataset['nu'])\n",
    "    test_dataset_theta.append(test_dataset['theta'])\n",
    "    test_dataset_kappa.append(test_dataset['kappa'])\n",
    "    "
   ]
  },
  {
   "cell_type": "code",
   "execution_count": null,
   "metadata": {},
   "outputs": [],
   "source": [
    "fig = plt.figure(figsize=(20, 7))\n",
    "gs = fig.add_gridspec(6, 10, wspace=0.9, hspace=0.9)\n",
    "sns.set_style(\"white\")\n",
    "\n",
    "ax0 = plt.subplot(gs[0:2,0:4])\n",
    "ax0.set_ylabel(\"Error\")\n",
    "ax0.set_xlabel(r\"Time to maturity: $\\tau$\")\n",
    "ax0.axhline(linewidth=1.5, color='r')\n",
    "ax0.yaxis.set_major_formatter(mtick.PercentFormatter())\n",
    "sns.scatterplot(x=np.array(test_dataset_tau).flatten(), y=(percent_deviation.values).flatten(order='F'), ax=ax0,\n",
    "                color = '#1f77b4',  alpha=0.5, s=10)\n",
    "\n",
    "ax1 = plt.subplot(gs[2:4,0:4])\n",
    "ax1.set_ylabel(\"Error\")\n",
    "ax1.set_xlabel(r\"Risk-free rate: $r$\")\n",
    "ax1.axhline(linewidth=1.5, color='r')\n",
    "ax1.yaxis.set_major_formatter(mtick.PercentFormatter())\n",
    "sns.scatterplot(x=np.array(test_dataset_r).flatten(), y=(percent_deviation.values).flatten(order='F'), ax=ax1,\n",
    "                color = '#1f77b4',  alpha=0.5, s=10)\n",
    "\n",
    "ax2 = plt.subplot(gs[4:6,0:4])\n",
    "ax2.set_ylabel(\"Error\")\n",
    "ax2.set_xlabel(r\"Volatility of volatility: $\\sigma$\")\n",
    "ax2.axhline(linewidth=1.5, color='r')\n",
    "ax2.yaxis.set_major_formatter(mtick.PercentFormatter())\n",
    "sns.scatterplot(x=np.array(test_dataset_sigma).flatten(), y=(percent_deviation.values).flatten(order='F'), ax=ax2,\n",
    "                color = '#1f77b4',  alpha=0.5, s=10)\n",
    "\n",
    "ax3 = plt.subplot(gs[0:2,4:8])\n",
    "ax3.set_ylabel(\"Error\")\n",
    "ax3.set_xlabel(r\"Correlation: $\\rho$\")\n",
    "ax3.axhline(linewidth=1.5, color='r')\n",
    "ax3.yaxis.set_major_formatter(mtick.PercentFormatter())\n",
    "sns.scatterplot(x=np.array(test_dataset_rho).flatten(), y=(percent_deviation.values).flatten(order='F'), ax=ax3,\n",
    "                color = '#1f77b4',  alpha=0.5, s=10)\n",
    "\n",
    "ax4 = plt.subplot(gs[2:4,4:8])\n",
    "ax4.set_ylabel(\"Error\")\n",
    "ax4.set_xlabel(r\"Initial variance: $\\nu_0$\")\n",
    "ax4.axhline(linewidth=1.5, color='r')\n",
    "ax4.yaxis.set_major_formatter(mtick.PercentFormatter())\n",
    "sns.scatterplot(x=np.array(test_dataset_nu).flatten(), y=(percent_deviation.values).flatten(order='F'), ax=ax4,\n",
    "                color = '#1f77b4',  alpha=0.5, s=10)\n",
    "\n",
    "ax5 = plt.subplot(gs[4:6,4:8])\n",
    "ax5.set_ylabel(\"Error\")\n",
    "ax5.set_xlabel(r\"Long-term mean: $\\theta$\")\n",
    "ax5.axhline(linewidth=1.5, color='r')\n",
    "ax5.yaxis.set_major_formatter(mtick.PercentFormatter())\n",
    "sns.scatterplot(x=np.array(test_dataset_theta).flatten(), y=(percent_deviation.values).flatten(), ax=ax5,\n",
    "                color = '#1f77b4',  alpha=0.5, s=10)\n",
    "\n",
    "ax6 = plt.subplot(gs[0:6,8:10])\n",
    "ax6.set_xlabel(\"Error\")\n",
    "ax6.set_ylabel(r\"Mean reversion speed: $\\kappa$\")\n",
    "ax6.axvline(linewidth=1.5, color='r')\n",
    "ax6.xaxis.set_major_formatter(mtick.PercentFormatter())\n",
    "sns.scatterplot(x=(percent_deviation.values).flatten(), y=np.array(test_dataset_kappa).flatten(order='F'), ax=ax6,\n",
    "               color = '#1f77b4',  alpha=0.5, s=10);\n",
    "\n",
    "#fig.savefig('/Users/Marcklein/Desktop/Master Thesis/Option pricing using Neural Networks/Python/Heston/Heston_scatterplot.png',bbox_inches='tight')"
   ]
  },
  {
   "cell_type": "markdown",
   "metadata": {},
   "source": [
    "## **SPEED PERFORMANCE**\n",
    "\n",
    "Lets test how fast our model is at predicting vs just calculating using the standard Heston way. \n",
    "We start with the model prediction time\n",
    "\n",
    "Inspirations:\n",
    "- https://stackoverflow.com/questions/60267911/keras-inconsistent-prediction-time\n",
    "- https://serverfault.com/questions/48455/what-are-the-differences-between-wall-clock-time-user-time-and-cpu-time#:~:text=In%20contrast%20to%20CPU%20time,for%20resources%20to%20become%20available. (model.predict(input) seems slower than model(input))"
   ]
  },
  {
   "cell_type": "markdown",
   "metadata": {},
   "source": [
    "### Heston neural network"
   ]
  },
  {
   "cell_type": "markdown",
   "metadata": {},
   "source": [
    "We run the test on our test dataset which contains (10000,7) datapoints i.e. 10000 smiles or 100000 implied volatilities"
   ]
  },
  {
   "cell_type": "code",
   "execution_count": null,
   "metadata": {},
   "outputs": [],
   "source": [
    "%%timeit\n",
    "model(normed_test_data)"
   ]
  },
  {
   "cell_type": "code",
   "execution_count": null,
   "metadata": {},
   "outputs": [],
   "source": [
    "%%timeit\n",
    "model.predict(normed_test_data)"
   ]
  },
  {
   "cell_type": "markdown",
   "metadata": {},
   "source": [
    "predicting using \"model\" is the fastest and takes 41.7 milliseconds (0.0417 sec) which is 0.00000417 sec per smile and 0.000000417 (4.17e^-7) sec per volatility"
   ]
  },
  {
   "cell_type": "markdown",
   "metadata": {},
   "source": [
    "### Heston analytic model"
   ]
  },
  {
   "cell_type": "markdown",
   "metadata": {},
   "source": [
    "Now, lets calculate the time it takes to run 1 implied vol but on our standard heston model (using the analytic method). Instead of running the Heston imp vol code in python, we will use C++ to get a more justifiable comparison. We will here include a picture of the resulting output."
   ]
  },
  {
   "cell_type": "code",
   "execution_count": null,
   "metadata": {},
   "outputs": [],
   "source": [
    "from IPython.display import Image"
   ]
  },
  {
   "cell_type": "code",
   "execution_count": null,
   "metadata": {},
   "outputs": [],
   "source": [
    "Image(\"/Users/Marcklein/Desktop/Master Thesis/Option pricing using Neural Networks/Python/Heston/Heston_cpp.png\")"
   ]
  },
  {
   "cell_type": "markdown",
   "metadata": {},
   "source": [
    "Calculating 1 implied volatility using the simple heston model takes 46.8044microseconds (4.68044e^-5). Calculating one smile takes  4.680443^-5*10= 4.680443^-4sec"
   ]
  },
  {
   "cell_type": "markdown",
   "metadata": {},
   "source": [
    "**Result:**\n",
    "\n",
    "This means that the ANN is 0.0000468044/0.000000417=112,2407673861 times faster than the normal Heston calculator"
   ]
  },
  {
   "cell_type": "markdown",
   "metadata": {},
   "source": [
    "## **NOTES/TRIALS FOR LATER USE**"
   ]
  },
  {
   "cell_type": "code",
   "execution_count": null,
   "metadata": {},
   "outputs": [],
   "source": [
    "'''#log our training in order to display it to tensorboard (provides great visual effects)\n",
    "NAME = \"Heston_Tensorboard-{}\".format(int(time.time()))\n",
    "tensorboard_callback = TensorBoard(log_dir=\"logs/fit/{}\".format(NAME),  \n",
    "    histogram_freq=1,\n",
    "    write_graph=True,\n",
    "    write_images=False,\n",
    "    update_freq=\"epoch\",\n",
    "    profile_batch=2,\n",
    "    embeddings_freq=0,\n",
    "    embeddings_metadata=None)''';"
   ]
  }
 ],
 "metadata": {
  "kernelspec": {
   "display_name": "Python 3",
   "language": "python",
   "name": "python3"
  },
  "language_info": {
   "codemirror_mode": {
    "name": "ipython",
    "version": 3
   },
   "file_extension": ".py",
   "mimetype": "text/x-python",
   "name": "python",
   "nbconvert_exporter": "python",
   "pygments_lexer": "ipython3",
   "version": "3.7.7"
  }
 },
 "nbformat": 4,
 "nbformat_minor": 4
}
