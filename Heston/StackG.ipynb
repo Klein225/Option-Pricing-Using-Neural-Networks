{
 "cells": [
  {
   "cell_type": "markdown",
   "metadata": {},
   "source": [
    "# PDF for the Heston model"
   ]
  },
  {
   "cell_type": "code",
   "execution_count": 1,
   "metadata": {},
   "outputs": [],
   "source": [
    "import math\n",
    "import pandas as pd\n",
    "import datetime, os\n",
    "import numpy as np\n",
    "import numpy.random as npr\n",
    "from pylab import plt, mpl\n",
    "\n",
    "\n",
    "from scipy.stats import norm\n",
    "from scipy import optimize\n",
    "import scipy.integrate as integrate\n",
    "import scipy.special as special \n",
    "\n",
    "import matplotlib.pyplot as plt\n",
    "import seaborn as sns\n",
    "\n",
    "from scipy.integrate import quad\n",
    "\n",
    "from scipy.interpolate import BSpline, make_interp_spline, CubicSpline\n"
   ]
  },
  {
   "cell_type": "code",
   "execution_count": 2,
   "metadata": {},
   "outputs": [],
   "source": [
    "def heston_call(S, K, tau, r, kappa, theta, sigma, rho, nu, limit):\n",
    "    X = np.log(S / K)\n",
    "    kappahat = kappa - 0.5 * rho *sigma\n",
    "\n",
    "    def Integrand(k):\n",
    "        xi = np.sqrt(k**2*sigma**2*(1-rho**2) + 2j*k*sigma*rho*kappahat + \\\n",
    "                         kappahat**2 + (sigma**2)/4)\n",
    "        psi_p = -(1j*k*rho*sigma + kappahat) + xi\n",
    "        psi_m = (1j*k*rho*sigma + kappahat) + xi\n",
    "        alpha = -((kappa*theta)/sigma**2) * \\\n",
    "              (psi_p*tau + 2*np.log((psi_m+psi_p*np.exp(-xi*tau))/(2*xi)))\n",
    "        beta = (1-np.exp(-xi*tau)) / (psi_m + psi_p * np.exp(-xi*tau))\n",
    "\n",
    "        numerator = np.exp((-1j*k+0.5)*X+alpha-(k**2+0.25)*beta*nu)\n",
    "        integrall = np.real(numerator / (k**2+0.25))\n",
    "\n",
    "        return integrall\n",
    "\n",
    "    result = integrate.quad(lambda x: Integrand(x), -limit, limit)\n",
    "    integrall = result[0]\n",
    "\n",
    "    # compute Call price\n",
    "    price = 1*S-K*np.exp(-r*tau)*integrall / (2*np.pi)\n",
    "\n",
    "    return price"
   ]
  },
  {
   "cell_type": "code",
   "execution_count": 3,
   "metadata": {},
   "outputs": [],
   "source": [
    "class bsm_call_option(object):\n",
    "    '''\n",
    "    Class for European call options in BSM model\n",
    "    It's main purpose is calculating the implied volatility for the Heston model\n",
    "    \n",
    "    Attributes\n",
    "    ==========\n",
    "    S: float - Stock price\n",
    "    K: float - Strike price\n",
    "    tau: float - time to maturity \n",
    "    r: float - constant riske-free rate\n",
    "    sigma: float - volatility\n",
    "    '''\n",
    "    \n",
    "    def __init__(self, S, K, tau, r, sigma):\n",
    "        self.S = S\n",
    "        self.K = K\n",
    "        self.tau = tau\n",
    "        self.r = r\n",
    "        self.sigma = sigma\n",
    "        \n",
    "    def value(self):\n",
    "        d1 = ((np.log(self.S / self.K) +\n",
    "               (self.r + 0.5 * self.sigma ** 2) * self.tau) /\n",
    "              (self.sigma * np.sqrt(self.tau)))\n",
    "        d2 = ((np.log(self.S / self.K) +\n",
    "               (self.r - 0.5 * self.sigma ** 2) * self.tau) /\n",
    "              (self.sigma * np.sqrt(self.tau)))\n",
    "        value = (self.S * norm.cdf(d1, 0.0, 1.0) -\n",
    "                 self.K * np.exp(-self.r * self.tau) * norm.cdf(d2, 0.0, 1.0))\n",
    "        return value\n",
    "    \n",
    "def bisection(S,K,tau,r,C0, it=10000, precision=1e-6):\n",
    "    #lower bound and upper bound definition\n",
    "    a = 1e-20\n",
    "    b = 10\n",
    "    m = (b+a) / 2\n",
    "    count_iter = 1\n",
    "\n",
    "    while count_iter <= it and math.fabs(b-a)>precision:\n",
    "        #If f(a)*f(b)<0\n",
    "        if (bsm_call_option(S, K, tau, r, a).value()-C0)*(bsm_call_option(S, K, tau, r, m).value()-C0)<0:\n",
    "            b = m\n",
    "        else:\n",
    "            a = m\n",
    "        m = (b+a) / 2\n",
    "        count_iter += 1\n",
    "    return m\n"
   ]
  },
  {
   "cell_type": "code",
   "execution_count": 4,
   "metadata": {},
   "outputs": [],
   "source": [
    "K = np.arange(0.8, 1.3, 0.05)\n",
    "\n",
    "S, theta, r, kappa, rho, nu, tau, sigma =1, 0.373747, 0.045702, 1.042103, -0.617528, 0.47395, 0.1219, 0.443298\n",
    "\n",
    "#integrate from -400 to 400 for ease of computation in heston\n",
    "limit = 400\n",
    "\n",
    "hc = np.vectorize(heston_call)\n",
    "bs = np.vectorize(bisection)\n",
    "\n",
    "#Initialize the implied volatility matrix with zeros\n",
    "imp_vol = np.zeros(10)\n",
    "\n",
    "#Create the implied volatilities\n",
    "for i in range(len(K)):\n",
    "    imp_vol[i] = bs(S, K[i], tau, r, hc(S, K[i], tau, r, kappa, theta, sigma, rho, nu, limit))"
   ]
  },
  {
   "cell_type": "code",
   "execution_count": 5,
   "metadata": {},
   "outputs": [
    {
     "data": {
      "text/plain": [
       "[<matplotlib.lines.Line2D at 0x7fdea3ccbd50>]"
      ]
     },
     "execution_count": 5,
     "metadata": {},
     "output_type": "execute_result"
    },
    {
     "data": {
      "image/png": "[encoded data removed]",
      "text/plain": [
       "<Figure size 432x288 with 1 Axes>"
      ]
     },
     "metadata": {
      "needs_background": "light"
     },
     "output_type": "display_data"
    }
   ],
   "source": [
    "plt.plot(K, imp_vol)"
   ]
  },
  {
   "cell_type": "markdown",
   "metadata": {},
   "source": [
    "Interpolate"
   ]
  },
  {
   "cell_type": "code",
   "execution_count": 6,
   "metadata": {},
   "outputs": [
    {
     "data": {
      "text/plain": [
       "[<matplotlib.lines.Line2D at 0x7fdea3e47410>]"
      ]
     },
     "execution_count": 6,
     "metadata": {},
     "output_type": "execute_result"
    },
    {
     "data": {
      "image/png": "[encoded data removed]",
      "text/plain": [
       "<Figure size 432x288 with 1 Axes>"
      ]
     },
     "metadata": {
      "needs_background": "light"
     },
     "output_type": "display_data"
    }
   ],
   "source": [
    "x = np.linspace(min(K), max(K), 5000)\n",
    "cs = CubicSpline(K, imp_vol)\n",
    "y = cs(x)\n",
    "\n",
    "plt.plot(x, y)"
   ]
  },
  {
   "cell_type": "markdown",
   "metadata": {},
   "source": [
    "## PDF"
   ]
  },
  {
   "cell_type": "code",
   "execution_count": 7,
   "metadata": {},
   "outputs": [],
   "source": [
    "# Lets use forward difference formula (numerical differenttiation)\n",
    "# first order\n",
    "dyforward = [0.0] * len(x)\n",
    "for i in range(len(y) - 1):\n",
    "    dyforward[i] = (y[i+1] - y[i]) / (x[i+1] - x[i])\n",
    "    #for the last data point we use backward differentiation\n",
    "dyforward[-1] = (y[-1] - y[-2]) / (x[-1] - x[-2])\n",
    "# second order\n",
    "dyforward2 = [0.0] * len(x)\n",
    "for i in range(len(y) - 2):\n",
    "    dyforward2[i] = (y[i] - 2*y[i+1] + y[i+2]) / ((x[i+1] - x[i])**2)\n",
    "    #for the last data point we use backward differentiation\n",
    "dyforward2[-1] = (y[-1] - 2*y[-2] + y[-3]) / ((x[-1] - x[-2])**2)\n",
    "    \n",
    "pdf = []\n",
    "for i in range(len(x)):\n",
    "    d1 = (np.log(S/x[i])+(r+0.5*sigma**2)*(tau))/(sigma*np.sqrt(tau))\n",
    "    d2 = (np.log(S/x[i])+(r-0.5*sigma**2)*(tau))/(sigma*np.sqrt(tau))\n",
    "    nd2 = norm.cdf(d2, 0.0, 1.0)\n",
    "        \n",
    "    \n",
    "    PDF = nd2 * (1/(y[i]*x[i]*np.sqrt(tau)) + ((2*d1)/y[i])*dyforward[i] +\n",
    "                 ((d1*d2*x[i]*np.sqrt(tau))/y[i])*dyforward[i]**2 + x[i]*np.sqrt(tau)*dyforward2[i])\n",
    "    pdf.append(PDF)"
   ]
  },
  {
   "cell_type": "code",
   "execution_count": 8,
   "metadata": {},
   "outputs": [
    {
     "data": {
      "text/plain": [
       "[<matplotlib.lines.Line2D at 0x7fdea3fde050>]"
      ]
     },
     "execution_count": 8,
     "metadata": {},
     "output_type": "execute_result"
    },
    {
     "data": {
      "image/png": "[encoded data removed]",
      "text/plain": [
       "<Figure size 432x288 with 1 Axes>"
      ]
     },
     "metadata": {
      "needs_background": "light"
     },
     "output_type": "display_data"
    }
   ],
   "source": [
    "plt.plot(x, pdf)"
   ]
  },
  {
   "cell_type": "code",
   "execution_count": null,
   "metadata": {},
   "outputs": [],
   "source": []
  },
  {
   "cell_type": "code",
   "execution_count": null,
   "metadata": {},
   "outputs": [],
   "source": []
  },
  {
   "cell_type": "code",
   "execution_count": null,
   "metadata": {},
   "outputs": [],
   "source": []
  },
  {
   "cell_type": "code",
   "execution_count": null,
   "metadata": {},
   "outputs": [],
   "source": []
  }
 ],
 "metadata": {
  "kernelspec": {
   "display_name": "Python 3",
   "language": "python",
   "name": "python3"
  },
  "language_info": {
   "codemirror_mode": {
    "name": "ipython",
    "version": 3
   },
   "file_extension": ".py",
   "mimetype": "text/x-python",
   "name": "python",
   "nbconvert_exporter": "python",
   "pygments_lexer": "ipython3",
   "version": "3.7.7"
  }
 },
 "nbformat": 4,
 "nbformat_minor": 4
}
