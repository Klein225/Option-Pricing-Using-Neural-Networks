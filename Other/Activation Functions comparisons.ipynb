{
 "cells": [
  {
   "cell_type": "markdown",
   "metadata": {},
   "source": [
    "# ACTIVATION FUNCTION COMPARISON"
   ]
  },
  {
   "cell_type": "code",
   "execution_count": 1,
   "metadata": {
    "colab": {
     "base_uri": "https://localhost:8080/",
     "height": 51
    },
    "colab_type": "code",
    "executionInfo": {
     "elapsed": 11910,
     "status": "ok",
     "timestamp": 1593680343580,
     "user": {
      "displayName": "Marc Klein",
      "photoUrl": "",
      "userId": "14297881284147348184"
     },
     "user_tz": -120
    },
    "id": "HhIih922RV9Q",
    "outputId": "ffcdf106-07a4-4271-8877-03f2db398536"
   },
   "outputs": [],
   "source": [
    "import pandas as pd\n",
    "import datetime, os\n",
    "import numpy as np\n",
    "import numpy.random as npr\n",
    "from pylab import plt, mpl\n",
    "import time\n",
    "\n",
    "from scipy.stats import norm\n",
    "from scipy import optimize\n",
    "import scipy.integrate as integrate\n",
    "import scipy.special as special \n",
    "\n",
    "import tensorflow as tf\n",
    "from tensorflow.keras.callbacks import EarlyStopping, TensorBoard\n",
    "from tensorboard.plugins.hparams import api as hp\n",
    "from tensorflow import keras\n",
    "from sklearn.model_selection import train_test_split\n",
    "from sklearn import preprocessing\n",
    "from sklearn.preprocessing import StandardScaler\n",
    "\n",
    "import matplotlib.pyplot as plt\n",
    "import seaborn as sns\n",
    "\n",
    "# Load the TensorBoard notebook extension\n",
    "%load_ext tensorboard\n",
    "\n",
    "# Clear any logs from previous runs\n",
    "!rm -rf ./logs/ "
   ]
  },
  {
   "cell_type": "markdown",
   "metadata": {
    "colab_type": "text",
    "id": "qmi8tz8lRV95"
   },
   "source": [
    "Lets save the dataframe as a CSV so we dont need to run it again, but can just load it when needed."
   ]
  },
  {
   "cell_type": "code",
   "execution_count": 2,
   "metadata": {
    "colab": {
     "base_uri": "https://localhost:8080/",
     "height": 72,
     "resources": {
      "http://localhost:8080/nbextensions/google.colab/files.js": {
       "data": "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",
       "headers": [
        [
         "content-type",
         "application/javascript"
        ]
       ],
       "ok": true,
       "status": 200,
       "status_text": ""
      }
     }
    },
    "colab_type": "code",
    "id": "oUV-M-yvRV97",
    "outputId": "29b2c37b-c99a-4bc2-84b1-112aabc043b4"
   },
   "outputs": [],
   "source": [
    "'''\n",
    "Options_input.to_csv(\"/Users/Marcklein/Desktop/Master Thesis/Option pricing using Neural Networks/Python/Heston/Heston_data_input.csv\")\n",
    "Options_output.to_csv(\"/Users/Marcklein/Desktop/Master Thesis/Option pricing using Neural Networks/Python/Heston/Heston_data_output.csv\")\n",
    "'''\n",
    "\n",
    "#To read the import the csv-file, use:\n",
    "raw_Options_input = pd.read_csv (r\"/Users/Marcklein/Desktop/Master Thesis/Option pricing using Neural Networks/Python/Heston/Options_input.csv\")\n",
    "raw_Options_output = pd.read_csv (r\"/Users/Marcklein/Desktop/Master Thesis/Option pricing using Neural Networks/Python/Heston/Options_output.csv\")\n",
    "\n",
    "#Creates some unnamed column in the beginning, delete it:\n",
    "del raw_Options_input['Unnamed: 0']\n",
    "del raw_Options_output['Unnamed: 0']\n"
   ]
  },
  {
   "cell_type": "code",
   "execution_count": 3,
   "metadata": {
    "colab": {
     "base_uri": "https://localhost:8080/",
     "height": 170
    },
    "colab_type": "code",
    "executionInfo": {
     "elapsed": 1242,
     "status": "ok",
     "timestamp": 1593506558585,
     "user": {
      "displayName": "Marc Klein",
      "photoUrl": "",
      "userId": "14297881284147348184"
     },
     "user_tz": -120
    },
    "id": "UnMezLAORV9-",
    "outputId": "d2a7f1f7-b0b6-469b-dd9a-03da51121fb0",
    "scrolled": true
   },
   "outputs": [],
   "source": [
    "Options_input = raw_Options_input.copy()\n",
    "Options_output = raw_Options_output.copy()"
   ]
  },
  {
   "cell_type": "markdown",
   "metadata": {
    "colab_type": "text",
    "id": "altEsq-uRV-L"
   },
   "source": [
    "Since the standard deviation is calculated by taking the sum of the squared deviations from the mean, a zero standard deviation can only be possible when all the values of a variable are the same (all equal to the mean). In this case, those variables have no discriminative power so they can be removed from the analysis. They cannot improve any classification, clustering or regression task. Many implementations will do it for you or throw an error about a matrix calculation."
   ]
  },
  {
   "cell_type": "markdown",
   "metadata": {
    "colab_type": "text",
    "id": "zY0694xARV-O"
   },
   "source": [
    "### **Data preparation**\n",
    "\n",
    "We split our dataset into a training set and a test set (validation set is taken from the training set during model.fit)."
   ]
  },
  {
   "cell_type": "code",
   "execution_count": 4,
   "metadata": {
    "colab": {},
    "colab_type": "code",
    "id": "O-omBJ0xRV-O"
   },
   "outputs": [],
   "source": [
    "# 90% for training and validating\n",
    "train_dataset = Options_input.sample(frac=0.9, random_state=42)\n",
    "test_dataset = Options_input.drop(train_dataset.index)\n",
    "\n",
    "train_labels = Options_output.sample(frac=0.9, random_state=42)\n",
    "test_labels = Options_output.drop(train_labels.index)"
   ]
  },
  {
   "cell_type": "markdown",
   "metadata": {
    "colab_type": "text",
    "id": "yM9Vg1djRV-T"
   },
   "source": [
    "Check the overall statistics"
   ]
  },
  {
   "cell_type": "code",
   "execution_count": 5,
   "metadata": {
    "colab": {
     "base_uri": "https://localhost:8080/",
     "height": 297
    },
    "colab_type": "code",
    "executionInfo": {
     "elapsed": 840,
     "status": "ok",
     "timestamp": 1593506648378,
     "user": {
      "displayName": "Marc Klein",
      "photoUrl": "",
      "userId": "14297881284147348184"
     },
     "user_tz": -120
    },
    "id": "jcXaC5KDRV-U",
    "outputId": "38711e81-fb06-4cee-8b2d-f44b7713de02"
   },
   "outputs": [],
   "source": [
    "train_stats = train_dataset.describe().T"
   ]
  },
  {
   "cell_type": "code",
   "execution_count": 6,
   "metadata": {
    "colab": {
     "base_uri": "https://localhost:8080/",
     "height": 51
    },
    "colab_type": "code",
    "executionInfo": {
     "elapsed": 1281,
     "status": "ok",
     "timestamp": 1593506654740,
     "user": {
      "displayName": "Marc Klein",
      "photoUrl": "",
      "userId": "14297881284147348184"
     },
     "user_tz": -120
    },
    "id": "7lk7tQZVRV-a",
    "outputId": "8a4b17d1-c7f7-4ce5-8deb-88422ff889c9"
   },
   "outputs": [
    {
     "name": "stdout",
     "output_type": "stream",
     "text": [
      "Input train data: (90000, 7)  Output train data: (90000, 10)\n",
      "Input test data: (10000, 7)  Output test data: (10000, 10)\n"
     ]
    }
   ],
   "source": [
    "#normalize the data\n",
    "def norm(x):\n",
    "    return (x - train_stats['mean']) / train_stats['std']\n",
    "normed_train_data = norm(train_dataset).values\n",
    "normed_test_data = norm(test_dataset).values\n",
    "\n",
    "#make the labels into numpy array just like the normed training data\n",
    "train_labels = np.asarray(train_labels)\n",
    "test_labels = np.asarray(test_labels)\n",
    "\n",
    "'''\n",
    "#standardise the data\n",
    "scaler = StandardScaler()\n",
    "normed_train_data = scaler.fit_transform(train_dataset)\n",
    "normed_test_data = scaler.fit_transform(test_dataset)\n",
    "'''\n",
    "\n",
    "#check the shapes\n",
    "print(\"Input train data:\", normed_train_data.shape, \" Output train data:\", train_labels.shape)\n",
    "print(\"Input test data:\", normed_test_data.shape, \" Output test data:\", test_labels.shape)"
   ]
  },
  {
   "cell_type": "markdown",
   "metadata": {
    "colab_type": "text",
    "id": "8O9gU8FqRV-c"
   },
   "source": [
    "### **The hyperparameter testing-model**\n",
    "\n",
    "We start by initializing all the hyperparameters that we want to asses. We then set the metrics of the model to \"mean squared error\". Since Tensorboard works with log files that are created during the training process we create logs for the training process that records the losses, metrics and other measures during training."
   ]
  },
  {
   "cell_type": "code",
   "execution_count": 7,
   "metadata": {},
   "outputs": [],
   "source": [
    "input_size = len(train_dataset.keys())\n",
    "output_size = 10\n",
    "hidden_layer_size = 1000\n",
    "\n",
    "def build_model_relu():\n",
    "    model = keras.models.Sequential([\n",
    "            #Layer to be used as an entry point into a Network\n",
    "            keras.layers.InputLayer(input_shape=[len(train_dataset.keys())]),\n",
    "            #Dense layer\n",
    "            keras.layers.Dense(hidden_layer_size, activation='relu', kernel_initializer = \"GlorotUniform\"),\n",
    "            #activation function is linear since we are doing regression\n",
    "            keras.layers.Dense(output_size, activation='linear')\n",
    "                                ])\n",
    "    \n",
    "    optimizer = tf.keras.optimizers.Adam(learning_rate=0.001, beta_1=0.9, beta_2=0.999,\n",
    "                             epsilon=1e-07, amsgrad=False, name='Adam')\n",
    "    \n",
    "    model.compile(optimizer=optimizer, \n",
    "                  loss='mean_squared_error', \n",
    "                  metrics=['mean_absolute_error', 'mean_squared_error'])\n",
    "\n",
    "    return model\n",
    "\n",
    "def build_model_tanh():\n",
    "    model = keras.models.Sequential([\n",
    "            #Layer to be used as an entry point into a Network\n",
    "            keras.layers.InputLayer(input_shape=[len(train_dataset.keys())]),\n",
    "            #Dense layer\n",
    "            keras.layers.Dense(hidden_layer_size, activation='tanh', kernel_initializer = \"GlorotUniform\"),\n",
    "            #activation function is linear since we are doing regression\n",
    "            keras.layers.Dense(output_size, activation='linear')\n",
    "                                ])\n",
    "    \n",
    "    optimizer = tf.keras.optimizers.Adam(learning_rate=0.001, beta_1=0.9, beta_2=0.999,\n",
    "                             epsilon=1e-07, amsgrad=False, name='Adam')\n",
    "    \n",
    "    model.compile(optimizer=optimizer, \n",
    "                  loss='mean_squared_error', \n",
    "                  metrics=['mean_absolute_error', 'mean_squared_error'])\n",
    "\n",
    "    return model\n",
    "\n",
    "def build_model_sigmoid():\n",
    "    model = keras.models.Sequential([\n",
    "            #Layer to be used as an entry point into a Network\n",
    "            keras.layers.InputLayer(input_shape=[len(train_dataset.keys())]),\n",
    "            #Dense layer\n",
    "            keras.layers.Dense(hidden_layer_size, activation='sigmoid', kernel_initializer = \"GlorotUniform\"),\n",
    "            #activation function is linear since we are doing regression\n",
    "            keras.layers.Dense(output_size, activation='linear')\n",
    "                                ])\n",
    "    \n",
    "    optimizer = tf.keras.optimizers.Adam(learning_rate=0.001, beta_1=0.9, beta_2=0.999,\n",
    "                             epsilon=1e-07, amsgrad=False, name='Adam')\n",
    "    \n",
    "    model.compile(optimizer=optimizer, \n",
    "                  loss='mean_squared_error', \n",
    "                  metrics=['mean_absolute_error', 'mean_squared_error'])\n",
    "\n",
    "    return model"
   ]
  },
  {
   "cell_type": "code",
   "execution_count": 8,
   "metadata": {},
   "outputs": [],
   "source": [
    "model_relu = build_model_relu()\n",
    "model_tanh = build_model_tanh()\n",
    "model_sigmoid = build_model_sigmoid()"
   ]
  },
  {
   "cell_type": "code",
   "execution_count": 9,
   "metadata": {},
   "outputs": [
    {
     "name": "stdout",
     "output_type": "stream",
     "text": [
      "Training with relu\n",
      "\n",
      "....................................................................................................\n",
      "..........................................................................................\n",
      "Training with tanh \n",
      "\n",
      "....................................................................................................\n",
      "....................................................................................................\n",
      "....................................................................................................\n",
      "....................................................................................................\n",
      ".................................\n",
      "Training with sigmoid\n",
      "\n",
      "....................................................................................................\n",
      ".....................................CPU times: user 1h 46min 1s, sys: 24min 17s, total: 2h 10min 18s\n",
      "Wall time: 42min 52s\n"
     ]
    }
   ],
   "source": [
    "%%time\n",
    "\n",
    "#record computation time for the epochs\n",
    "class TimeHistory(keras.callbacks.Callback):\n",
    "    def on_train_begin(self, logs={}):\n",
    "        self.times = [0]\n",
    "\n",
    "    def on_epoch_begin(self, batch, logs={}):\n",
    "        self.epoch_time_start = time.time()\n",
    "\n",
    "    def on_epoch_end(self, batch, logs={}):\n",
    "        self.times.append(time.time()- self.epoch_time_start + self.times[-1])\n",
    "\n",
    "time_callback_relu = TimeHistory()\n",
    "time_callback_tanh = TimeHistory()\n",
    "time_callback_sigmoid = TimeHistory()\n",
    "        \n",
    "\n",
    "# Display training progress by printing a single dot for each completed epoch\n",
    "class PrintDot(keras.callbacks.Callback):\n",
    "    def on_epoch_end(self, epoch, logs):\n",
    "        if epoch % 100 == 0: print('')\n",
    "        print('.', end='')\n",
    "\n",
    "batch_size = 256\n",
    "max_epochs = 1000\n",
    "\n",
    "#stops training if the val_loss has not improved over the last #number of epochs\n",
    "early_stopping = EarlyStopping(monitor='val_loss', patience=50)\n",
    "\n",
    "#fit the model and save it under history\n",
    "print(\"Training with relu\")\n",
    "history_relu = model_relu.fit(normed_train_data, \n",
    "         train_labels, \n",
    "         batch_size=batch_size, \n",
    "         epochs=max_epochs,\n",
    "         validation_split=0.2,\n",
    "         verbose=0,\n",
    "         callbacks=[early_stopping, PrintDot(), time_callback_relu])\n",
    "\n",
    "print(\"\\nTraining with tanh \")\n",
    "history_tanh = model_tanh.fit(normed_train_data, \n",
    "         train_labels, \n",
    "         batch_size=batch_size, \n",
    "         epochs=max_epochs,\n",
    "         validation_split=0.2,\n",
    "         verbose=0,\n",
    "         callbacks=[early_stopping, PrintDot(), time_callback_tanh])\n",
    "\n",
    "print(\"\\nTraining with sigmoid\")\n",
    "history_sigmoid = model_sigmoid.fit(normed_train_data, \n",
    "         train_labels, \n",
    "         batch_size=batch_size, \n",
    "         epochs=max_epochs,\n",
    "         validation_split=0.2,\n",
    "         verbose=0,\n",
    "         callbacks=[early_stopping, PrintDot(), time_callback_sigmoid])"
   ]
  },
  {
   "cell_type": "code",
   "execution_count": 10,
   "metadata": {},
   "outputs": [],
   "source": [
    "#dir(history_relu);"
   ]
  },
  {
   "cell_type": "code",
   "execution_count": 18,
   "metadata": {},
   "outputs": [],
   "source": [
    "hist_relu = pd.DataFrame(history_relu.history)\n",
    "hist_relu['epoch'] = history_relu.epoch\n",
    "hist_relu['time'] = time_callback_relu.times[1:]\n",
    "\n",
    "\n",
    "hist_tanh = pd.DataFrame(history_tanh.history)\n",
    "hist_tanh['epoch'] = history_tanh.epoch\n",
    "hist_tanh['time'] = time_callback_tanh.times[1:]\n",
    "\n",
    "\n",
    "hist_sigmoid = pd.DataFrame(history_sigmoid.history)\n",
    "hist_sigmoid['epoch'] = history_sigmoid.epoch\n",
    "hist_sigmoid['time'] = time_callback_sigmoid.times[1:]\n",
    "\n",
    "#hist_relu.tail()\n"
   ]
  },
  {
   "cell_type": "code",
   "execution_count": 19,
   "metadata": {},
   "outputs": [
    {
     "data": {
      "image/png": "[encoded data removed]",
      "text/plain": [
       "<Figure size 1080x360 with 2 Axes>"
      ]
     },
     "metadata": {
      "needs_background": "light"
     },
     "output_type": "display_data"
    }
   ],
   "source": [
    "plt.figure(figsize=(15,5))\n",
    "\n",
    "plt.subplot(121)\n",
    "plt.title(\"Error\", fontsize=12)\n",
    "plt.xlabel('Epoch')\n",
    "plt.ylabel('Validation mean square error')\n",
    "plt.plot(hist_relu['epoch'], hist_relu['val_mean_squared_error'].rolling(20).mean(),\n",
    "         \"k--\", linewidth=1.5, label=\"ReLU\")\n",
    "plt.plot(hist_tanh['epoch'], hist_tanh['val_mean_squared_error'].rolling(20).mean(),\n",
    "         \"k-\", linewidth=1.5, label=\"tanh\")\n",
    "plt.plot(hist_sigmoid['epoch'], hist_sigmoid['val_mean_squared_error'].rolling(20).mean(),\n",
    "         \"k-.\", linewidth=1.5, label=\"sigmoid\")\n",
    "plt.grid(True)\n",
    "plt.legend()\n",
    "plt.yscale('log')\n",
    "\n",
    "plt.subplot(122)\n",
    "plt.title(\"Computation time\", fontsize=12)\n",
    "plt.xlabel('Epoch')\n",
    "plt.ylabel('Time in minutes')\n",
    "plt.plot(hist_relu['epoch'], hist_relu['time'] / 60.,\n",
    "         \"k--\", linewidth=1.5, label=\"ReLU avg.: 2.26 sec per epoch\")\n",
    "plt.plot(hist_tanh['epoch'], hist_tanh['time'] / 60.,\n",
    "         \"k-\", linewidth=1.5, label=\"tanh avg.: 3.57 sec per epoch\")\n",
    "plt.plot(hist_sigmoid['epoch'], hist_sigmoid['time'] / 60.,\n",
    "         \"k-.\", linewidth=1.5, label=\"sigmoid avg.: 4.44 sec per epoch\")\n",
    "plt.grid(True)\n",
    "plt.legend()\n",
    "\n",
    "\n",
    "plt.savefig('/Users/Marcklein/Desktop/Master Thesis/Option pricing using Neural Networks/Python/Other/AF_comparison.png',\n",
    "            bbox_inches='tight');\n",
    "\n",
    "plt.show()"
   ]
  },
  {
   "cell_type": "code",
   "execution_count": 17,
   "metadata": {},
   "outputs": [
    {
     "name": "stdout",
     "output_type": "stream",
     "text": [
      "4.443962227941177\n",
      "3.5671668287037033\n",
      "2.2586710476190475\n"
     ]
    }
   ],
   "source": [
    "print(604.378863 / 136)\n",
    "print(1541.016070 / 432)\n",
    "print(426.888828 / 189)"
   ]
  },
  {
   "cell_type": "code",
   "execution_count": null,
   "metadata": {},
   "outputs": [],
   "source": []
  }
 ],
 "metadata": {
  "colab": {
   "name": "The Heston Model-Copy1.ipynb",
   "provenance": []
  },
  "kernelspec": {
   "display_name": "Python 3",
   "language": "python",
   "name": "python3"
  },
  "language_info": {
   "codemirror_mode": {
    "name": "ipython",
    "version": 3
   },
   "file_extension": ".py",
   "mimetype": "text/x-python",
   "name": "python",
   "nbconvert_exporter": "python",
   "pygments_lexer": "ipython3",
   "version": "3.7.7"
  }
 },
 "nbformat": 4,
 "nbformat_minor": 1
}
