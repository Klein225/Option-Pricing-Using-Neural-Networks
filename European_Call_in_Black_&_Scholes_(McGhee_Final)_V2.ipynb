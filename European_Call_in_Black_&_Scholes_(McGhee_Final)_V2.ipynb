{
  "nbformat": 4,
  "nbformat_minor": 0,
  "metadata": {
    "colab": {
      "name": "European Call in Black & Scholes (McGhee Final) V2.ipynb",
      "provenance": [],
      "collapsed_sections": [],
      "authorship_tag": "ABX9TyNn9PveV0KlsJUpqhRQTMvp",
      "include_colab_link": true
    },
    "kernelspec": {
      "name": "python3",
      "display_name": "Python 3"
    }
  },
  "cells": [
    {
      "cell_type": "markdown",
      "metadata": {
        "id": "view-in-github",
        "colab_type": "text"
      },
      "source": [
        "<a href=\"https://colab.research.google.com/github/Klein225/Option-Pricing-Using-Neural-Networks/blob/master/European_Call_in_Black_%26_Scholes_(McGhee_Final)_V2.ipynb\" target=\"_parent\"><img src=\"https://colab.research.google.com/assets/colab-badge.svg\" alt=\"Open In Colab\"/></a>"
      ]
    },
    {
      "cell_type": "markdown",
      "metadata": {
        "id": "OqY_i1pJdDbV",
        "colab_type": "text"
      },
      "source": [
        "# **Europen Call in Black-Scholes-Merton (Partially McGhee)**\n",
        "### **Version 2: The ability to freely choose the number of neurons and layers**\n",
        "We will try and learn the BSM Model (without dividends) using a Neural Network with the same (almost) parameters as in McGhees paper \"An Artificual Neural Network Representation of the SABR Stochastic Volatility Model\". This is intended as a introduction to the more complex SABR model which is an extension of the BSM model.\n",
        "\n",
        "We will start by creatin a dataset for us to train on"
      ]
    },
    {
      "cell_type": "code",
      "metadata": {
        "id": "XpNhcs2_PJG4",
        "colab_type": "code",
        "outputId": "9cf77eb7-c29d-49f2-b041-4313df04e860",
        "colab": {
          "base_uri": "https://localhost:8080/",
          "height": 51
        }
      },
      "source": [
        "# Import packages\n",
        "import pylab\n",
        "import pandas as pd\n",
        "import numpy as np\n",
        "from scipy.stats import norm\n",
        "import matplotlib.pyplot as plt\n",
        "import seaborn as sns\n",
        "import random\n",
        "import time\n",
        "\n",
        "import tensorflow as tf\n",
        "from tensorflow import keras\n",
        "from tensorflow.keras.callbacks import EarlyStopping\n",
        "from sklearn.model_selection import train_test_split\n",
        "from sklearn.preprocessing import StandardScaler"
      ],
      "execution_count": 0,
      "outputs": [
        {
          "output_type": "stream",
          "text": [
            "/usr/local/lib/python3.6/dist-packages/statsmodels/tools/_testing.py:19: FutureWarning: pandas.util.testing is deprecated. Use the functions in the public API at pandas.testing instead.\n",
            "  import pandas.util.testing as tm\n"
          ],
          "name": "stderr"
        }
      ]
    },
    {
      "cell_type": "code",
      "metadata": {
        "id": "_ddaW6rsfF8c",
        "colab_type": "code",
        "colab": {}
      },
      "source": [
        "#N: number of random options\n",
        "N = 100000\n",
        "\n",
        "#Make the same random numbers every time using seed\n",
        "random.seed(42)\n",
        "\n",
        "#uniform stock pices\n",
        "S = np.random.rand(N) * 100\n",
        "#Stike prices (simpler version of how McGhee chooses his strike prices)\n",
        "K = (np.random.randint(50, 150, N) * .01) * S\n",
        "#Time (1day to 2 years)\n",
        "T = np.random.randint(1, 730, N) / 365\n",
        "#Risk free rate\n",
        "r = np.random.randint(1, 500, N) / 10000\n",
        "#volatility (5% to 50%)\n",
        "sigma = np.random.randint(5, 50, N) / 100"
      ],
      "execution_count": 0,
      "outputs": []
    },
    {
      "cell_type": "code",
      "metadata": {
        "id": "mnTCg9ZRguPp",
        "colab_type": "code",
        "colab": {}
      },
      "source": [
        "Option_values = pd.DataFrame({'S': S,\n",
        "                              'K': K,\n",
        "                              'T': T,\n",
        "                              'r': r,\n",
        "                              'sigma': sigma})"
      ],
      "execution_count": 0,
      "outputs": []
    },
    {
      "cell_type": "code",
      "metadata": {
        "id": "ANTEJKKHhhyA",
        "colab_type": "code",
        "outputId": "4a998eff-58bb-495c-fb0f-61728243dcff",
        "colab": {
          "base_uri": "https://localhost:8080/",
          "height": 204
        }
      },
      "source": [
        "Option_values.tail()"
      ],
      "execution_count": 0,
      "outputs": [
        {
          "output_type": "execute_result",
          "data": {
            "text/html": [
              "<div>\n",
              "<style scoped>\n",
              "    .dataframe tbody tr th:only-of-type {\n",
              "        vertical-align: middle;\n",
              "    }\n",
              "\n",
              "    .dataframe tbody tr th {\n",
              "        vertical-align: top;\n",
              "    }\n",
              "\n",
              "    .dataframe thead th {\n",
              "        text-align: right;\n",
              "    }\n",
              "</style>\n",
              "<table border=\"1\" class=\"dataframe\">\n",
              "  <thead>\n",
              "    <tr style=\"text-align: right;\">\n",
              "      <th></th>\n",
              "      <th>S</th>\n",
              "      <th>K</th>\n",
              "      <th>T</th>\n",
              "      <th>r</th>\n",
              "      <th>sigma</th>\n",
              "    </tr>\n",
              "  </thead>\n",
              "  <tbody>\n",
              "    <tr>\n",
              "      <th>99995</th>\n",
              "      <td>81.483893</td>\n",
              "      <td>78.224537</td>\n",
              "      <td>1.164384</td>\n",
              "      <td>0.0268</td>\n",
              "      <td>0.14</td>\n",
              "    </tr>\n",
              "    <tr>\n",
              "      <th>99996</th>\n",
              "      <td>7.345389</td>\n",
              "      <td>4.554141</td>\n",
              "      <td>1.758904</td>\n",
              "      <td>0.0396</td>\n",
              "      <td>0.08</td>\n",
              "    </tr>\n",
              "    <tr>\n",
              "      <th>99997</th>\n",
              "      <td>69.624174</td>\n",
              "      <td>52.914372</td>\n",
              "      <td>0.745205</td>\n",
              "      <td>0.0305</td>\n",
              "      <td>0.33</td>\n",
              "    </tr>\n",
              "    <tr>\n",
              "      <th>99998</th>\n",
              "      <td>10.011838</td>\n",
              "      <td>11.313377</td>\n",
              "      <td>1.386301</td>\n",
              "      <td>0.0186</td>\n",
              "      <td>0.41</td>\n",
              "    </tr>\n",
              "    <tr>\n",
              "      <th>99999</th>\n",
              "      <td>25.336562</td>\n",
              "      <td>35.217822</td>\n",
              "      <td>1.084932</td>\n",
              "      <td>0.0311</td>\n",
              "      <td>0.09</td>\n",
              "    </tr>\n",
              "  </tbody>\n",
              "</table>\n",
              "</div>"
            ],
            "text/plain": [
              "               S          K         T       r  sigma\n",
              "99995  81.483893  78.224537  1.164384  0.0268   0.14\n",
              "99996   7.345389   4.554141  1.758904  0.0396   0.08\n",
              "99997  69.624174  52.914372  0.745205  0.0305   0.33\n",
              "99998  10.011838  11.313377  1.386301  0.0186   0.41\n",
              "99999  25.336562  35.217822  1.084932  0.0311   0.09"
            ]
          },
          "metadata": {
            "tags": []
          },
          "execution_count": 4
        }
      ]
    },
    {
      "cell_type": "markdown",
      "metadata": {
        "id": "ly-mRUtWzNai",
        "colab_type": "text"
      },
      "source": [
        "**<h3><center>Black & Scholes' formula</center></h3>**\n",
        "\n",
        "Since we are using supervised learning, we need to calculate the BSM call prices. this is done using the following formula:\n",
        "$$\n",
        "B{S_{K,T,\\sigma }}\\left( S \\right) = SN\\left( {\\frac{{\\log \\left( {\\frac{S}{K}} \\right) +\\left( r+ \\frac{{{\\sigma ^2}}}{2}\\right)T}}{\\sigma \\sqrt{T} }} \\right) - Ke^{-rT}N\\left( {\\frac{{\\log \\left( {\\frac{S}{K}} \\right) +\\left( r- \\frac{{{\\sigma ^2}}}{2}\\right)T}}{\\sigma\\sqrt{T} }} \\right)\n",
        "$$"
      ]
    },
    {
      "cell_type": "code",
      "metadata": {
        "id": "iHvhsSsqyP4p",
        "colab_type": "code",
        "colab": {}
      },
      "source": [
        "def bsm_call(S, K, T, r, sigma):\n",
        "  d1 = (np.log(S / K) + (r + sigma**2 / 2) * T) / (sigma * np.sqrt(T))\n",
        "  d2 = (np.log(S / K) + (r - sigma**2 / 2) * T) / (sigma * np.sqrt(T))\n",
        "\n",
        "  return S * norm.cdf(d1) - K * np.exp(-r*T) * norm.cdf(d2)"
      ],
      "execution_count": 0,
      "outputs": []
    },
    {
      "cell_type": "code",
      "metadata": {
        "id": "COn3mW2p1sEy",
        "colab_type": "code",
        "outputId": "752bcbf7-77bf-4e45-de87-875e4bfcac5e",
        "colab": {
          "base_uri": "https://localhost:8080/",
          "height": 221
        }
      },
      "source": [
        "#Generate option prices for all the random option values\n",
        "%%time\n",
        "\n",
        "Option_prices = []\n",
        "for i in range(N):\n",
        "  C = bsm_call(S[i], K[i], T[i], r[i], sigma[i])\n",
        "  Option_prices.append(C)\n",
        "  #print how far its gotten at regular intervals\n",
        "  if (i % 10000) == 0:\n",
        "    print('Generated {} options'.format(i))\n",
        "\n",
        "Options = pd.DataFrame({'S': S,\n",
        "                        'K': K,\n",
        "                        'T': T,\n",
        "                        'r': r,\n",
        "                        'sigma': sigma,\n",
        "                        'C': Option_prices})"
      ],
      "execution_count": 0,
      "outputs": [
        {
          "output_type": "stream",
          "text": [
            "Generated 0 options\n",
            "Generated 10000 options\n",
            "Generated 20000 options\n",
            "Generated 30000 options\n",
            "Generated 40000 options\n",
            "Generated 50000 options\n",
            "Generated 60000 options\n",
            "Generated 70000 options\n",
            "Generated 80000 options\n",
            "Generated 90000 options\n",
            "CPU times: user 19.3 s, sys: 231 ms, total: 19.6 s\n",
            "Wall time: 19.2 s\n"
          ],
          "name": "stdout"
        }
      ]
    },
    {
      "cell_type": "code",
      "metadata": {
        "id": "9cFfb0bJ9ut3",
        "colab_type": "code",
        "outputId": "af6249fd-f7c7-46d9-bbda-9656365e1a76",
        "colab": {
          "base_uri": "https://localhost:8080/",
          "height": 204
        }
      },
      "source": [
        "Options.tail()"
      ],
      "execution_count": 0,
      "outputs": [
        {
          "output_type": "execute_result",
          "data": {
            "text/html": [
              "<div>\n",
              "<style scoped>\n",
              "    .dataframe tbody tr th:only-of-type {\n",
              "        vertical-align: middle;\n",
              "    }\n",
              "\n",
              "    .dataframe tbody tr th {\n",
              "        vertical-align: top;\n",
              "    }\n",
              "\n",
              "    .dataframe thead th {\n",
              "        text-align: right;\n",
              "    }\n",
              "</style>\n",
              "<table border=\"1\" class=\"dataframe\">\n",
              "  <thead>\n",
              "    <tr style=\"text-align: right;\">\n",
              "      <th></th>\n",
              "      <th>S</th>\n",
              "      <th>K</th>\n",
              "      <th>T</th>\n",
              "      <th>r</th>\n",
              "      <th>sigma</th>\n",
              "      <th>C</th>\n",
              "    </tr>\n",
              "  </thead>\n",
              "  <tbody>\n",
              "    <tr>\n",
              "      <th>99995</th>\n",
              "      <td>81.483893</td>\n",
              "      <td>78.224537</td>\n",
              "      <td>1.164384</td>\n",
              "      <td>0.0268</td>\n",
              "      <td>0.14</td>\n",
              "      <td>8.094081</td>\n",
              "    </tr>\n",
              "    <tr>\n",
              "      <th>99996</th>\n",
              "      <td>7.345389</td>\n",
              "      <td>4.554141</td>\n",
              "      <td>1.758904</td>\n",
              "      <td>0.0396</td>\n",
              "      <td>0.08</td>\n",
              "      <td>3.097661</td>\n",
              "    </tr>\n",
              "    <tr>\n",
              "      <th>99997</th>\n",
              "      <td>69.624174</td>\n",
              "      <td>52.914372</td>\n",
              "      <td>0.745205</td>\n",
              "      <td>0.0305</td>\n",
              "      <td>0.33</td>\n",
              "      <td>19.201472</td>\n",
              "    </tr>\n",
              "    <tr>\n",
              "      <th>99998</th>\n",
              "      <td>10.011838</td>\n",
              "      <td>11.313377</td>\n",
              "      <td>1.386301</td>\n",
              "      <td>0.0186</td>\n",
              "      <td>0.41</td>\n",
              "      <td>1.538544</td>\n",
              "    </tr>\n",
              "    <tr>\n",
              "      <th>99999</th>\n",
              "      <td>25.336562</td>\n",
              "      <td>35.217822</td>\n",
              "      <td>1.084932</td>\n",
              "      <td>0.0311</td>\n",
              "      <td>0.09</td>\n",
              "      <td>0.000606</td>\n",
              "    </tr>\n",
              "  </tbody>\n",
              "</table>\n",
              "</div>"
            ],
            "text/plain": [
              "               S          K         T       r  sigma          C\n",
              "99995  81.483893  78.224537  1.164384  0.0268   0.14   8.094081\n",
              "99996   7.345389   4.554141  1.758904  0.0396   0.08   3.097661\n",
              "99997  69.624174  52.914372  0.745205  0.0305   0.33  19.201472\n",
              "99998  10.011838  11.313377  1.386301  0.0186   0.41   1.538544\n",
              "99999  25.336562  35.217822  1.084932  0.0311   0.09   0.000606"
            ]
          },
          "metadata": {
            "tags": []
          },
          "execution_count": 7
        }
      ]
    },
    {
      "cell_type": "markdown",
      "metadata": {
        "id": "VhJMKxXI_Cl3",
        "colab_type": "text"
      },
      "source": [
        "Lets check the distribution of the different input values and the target output "
      ]
    },
    {
      "cell_type": "code",
      "metadata": {
        "id": "s-P_D2UY5EyL",
        "colab_type": "code",
        "outputId": "f2fd1cd4-d34f-4c9e-8918-c33c4e4fb317",
        "colab": {
          "base_uri": "https://localhost:8080/",
          "height": 554
        }
      },
      "source": [
        "fig, ax =plt.subplots(2,3, figsize=(12,8))\n",
        "fig.subplots_adjust(wspace = 0.25, hspace = 0.25)\n",
        "fig.suptitle('Distibution of inputs and output', fontsize=20)\n",
        "\n",
        "sns.distplot(Options['C'], hist=True, kde=False,\n",
        "             bins=int(20), color = 'salmon',\n",
        "             hist_kws={'edgecolor':'black'}, ax=ax[0,0]);\n",
        "sns.distplot(Options['S'], hist=True, kde=False, \n",
        "             bins=int(20), color = 'salmon',\n",
        "             hist_kws={'edgecolor':'black'}, ax=ax[0,1]);\n",
        "sns.distplot(Options['K'], hist=True, kde=False, \n",
        "             bins=int(20), color = 'salmon',\n",
        "             hist_kws={'edgecolor':'black'}, ax=ax[0,2]);\n",
        "sns.distplot(Options['T'], hist=True, kde=False, \n",
        "             bins=int(20), color = 'salmon',\n",
        "             hist_kws={'edgecolor':'black'}, ax=ax[1,0]);\n",
        "sns.distplot(Options['r'], hist=True, kde=False, \n",
        "             bins=int(20), color = 'salmon',\n",
        "             hist_kws={'edgecolor':'black'}, ax=ax[1,1]);\n",
        "sns.distplot(Options['sigma'], hist=True, kde=False, \n",
        "             bins=int(20), color = 'salmon',\n",
        "             hist_kws={'edgecolor':'black'}, ax=ax[1,2]);                                                   \n",
        "\n",
        "\n",
        "#fig.title('MSE of Neural Network', fontsize=20,)\n",
        "fig.show()"
      ],
      "execution_count": 0,
      "outputs": [
        {
          "output_type": "display_data",
          "data": {
            "image/png": "[encoded data removed]",
            "text/plain": [
              "<Figure size 864x576 with 6 Axes>"
            ]
          },
          "metadata": {
            "tags": [],
            "needs_background": "light"
          }
        }
      ]
    },
    {
      "cell_type": "markdown",
      "metadata": {
        "id": "v6oy2FKf9uFB",
        "colab_type": "text"
      },
      "source": [
        "**<h3><center>A simple Neural Network</center></h3>**\n",
        "We will now start training our neural network on the BSM call prices. Just as in McGhees paper, we will use the following:\n",
        "*   Hidden layers: 1 - 3\n",
        "\n",
        "Given the universal approximation theorem we should in priciple be able to get away with only one hidden layer to approximate any continous function under certain assumptions. \n",
        "\n",
        "*   Nodes / Neurons: 1 - \n",
        "\n",
        "You can try increasing the number of neurons gradually untill the network starts overfitting. But in practice, it's often simpler and more efficient to pick a model with more layers and neurons than you actually need, then use early stopping and other regularization techniques to prevent it from overfitting.\n",
        "\n",
        "*   Optimizer: Adam\n",
        "\n",
        "Adam, which stands for \"adaptive moment estimation\". It keeps track of an exponentially  decaying  average of past gradients and keeps track of an exponentially decaying average of past squared gradients.\n",
        "\n",
        "*   Loss function: Mean squared error\n",
        "\n",
        "MSE i current best practice, and good for fast calculations as it is a part of the official Keras API. It is also good when you dont have too many outliers.\n",
        "\n",
        "*   Activation function: Softplus\n",
        "\n",
        "Softplus activation function is a smooth variant of Relu (both ensures a positive output value):\n",
        "$$\n",
        "f(z)=\\ln(e^z+1)\n",
        "$$\n",
        "It is close to 0 when $z$ is negative and close to $z$ when $z$ is positive."
      ]
    },
    {
      "cell_type": "markdown",
      "metadata": {
        "id": "rRJcE5MyJSXx",
        "colab_type": "text"
      },
      "source": [
        "We start by splitting our data into a training, testing set and a validation set. We do this in order to avoid too much overfitting."
      ]
    },
    {
      "cell_type": "code",
      "metadata": {
        "id": "BFwel73K55sp",
        "colab_type": "code",
        "outputId": "133c7420-0854-470f-bd2e-761a0bc1f422",
        "colab": {
          "base_uri": "https://localhost:8080/",
          "height": 68
        }
      },
      "source": [
        "#For us to use the Sklearn model \"train_test_split\" we need to make a dataframe into a numpy array\n",
        "call_options = Options.values \n",
        "\n",
        "#First split the input variable and output variable from each other\n",
        "#input values\n",
        "X = call_options[:, :5]\n",
        "#output values\n",
        "y = call_options[:, 5:6]\n",
        "\n",
        "# 60% for training, 10% for testing and 20% for validating\n",
        "X_train, X_valid, y_train, y_valid = train_test_split(X, y, test_size=0.20, random_state=42) \n",
        "X_train, X_test, y_train, y_test = train_test_split(X_train, y_train, test_size=0.125, random_state=42) # 0.125 x 0.8 = 0.1\n",
        "\n",
        "#We standardize our data\n",
        "scaler = StandardScaler()\n",
        "X_train = scaler.fit_transform(X_train)\n",
        "X_valid = scaler.transform(X_valid)\n",
        "X_test = scaler.transform(X_test)\n",
        "\n",
        "print(X_train.shape, y_train.shape)\n",
        "print(X_valid.shape, y_valid.shape)\n",
        "print(X_test.shape, y_test.shape)"
      ],
      "execution_count": 0,
      "outputs": [
        {
          "output_type": "stream",
          "text": [
            "(70000, 5) (70000, 1)\n",
            "(20000, 5) (20000, 1)\n",
            "(10000, 5) (10000, 1)\n"
          ],
          "name": "stdout"
        }
      ]
    },
    {
      "cell_type": "markdown",
      "metadata": {
        "id": "t-KHGqoTMrX9",
        "colab_type": "text"
      },
      "source": [
        "Now, lets build the neural network with one hidden layer consisting of 1000 neurons/nodes and one output layer with 1 neuron/node."
      ]
    },
    {
      "cell_type": "code",
      "metadata": {
        "id": "mZcx3sjtwJ9W",
        "colab_type": "code",
        "colab": {}
      },
      "source": [
        "def number_of_layers_neurons(Layers, Neurons):\n",
        "  #make model a global variable so we can call it outside the function\n",
        "  global model, history\n",
        "  \n",
        "  #build the model given a number of layers\n",
        "  if Layers == 1:\n",
        "    model = keras.models.Sequential([\n",
        "    #Hidden layer 1\n",
        "    keras.layers.Dense(Neurons, activation='softplus', input_shape=X_train.shape[1:]),\n",
        "    #Output layer\n",
        "    keras.layers.Dense(1)\n",
        "    ])\n",
        "  elif Layers == 2:\n",
        "    model = keras.models.Sequential([\n",
        "    #Hidden layer 1\n",
        "    keras.layers.Dense(Neurons, activation='softplus', input_shape=X_train.shape[1:]),\n",
        "    #Hidden layer 2\n",
        "    keras.layers.Dense(Neurons, activation='softplus'),\n",
        "    #Output layer\n",
        "    keras.layers.Dense(1)\n",
        "    ])\n",
        "\n",
        "  elif Layers == 3:\n",
        "    model = keras.models.Sequential([\n",
        "    #Hidden layer 1\n",
        "    keras.layers.Dense(Neurons, activation='softplus', input_shape=X_train.shape[1:]),\n",
        "    #Hidden layer 2\n",
        "    keras.layers.Dense(Neurons, activation='softplus'),\n",
        "    #Hidden layer 3\n",
        "    keras.layers.Dense(Neurons, activation='softplus'),\n",
        "    #Output layer\n",
        "    keras.layers.Dense(1)\n",
        "    ])\n",
        "  else:\n",
        "    print(\"Invalid amount of Layers! Choose 1-3\")\n",
        "    return\n",
        "  \n",
        "  #compile the model\n",
        "  model.compile(loss=\"mean_squared_error\",\n",
        "                optimizer=\"adam\")\n",
        "\n",
        "  #Stop training if cost function (val_loss) using cross validation data fails to decrease.\n",
        "  callbacks_list = EarlyStopping(monitor = 'val_loss', patience = 3)\n",
        "\n",
        "  #train the model\n",
        "  history = model.fit(X_train, y_train, epochs=100,\n",
        "                      validation_data=(X_valid, y_valid),\n",
        "                      verbose = 2, \n",
        "                      callbacks=[callbacks_list])"
      ],
      "execution_count": 0,
      "outputs": []
    },
    {
      "cell_type": "markdown",
      "metadata": {
        "id": "52DIq3ruD-7p",
        "colab_type": "text"
      },
      "source": [
        "Run our neural network with Layers:1-3, and the number of neurons of own choice"
      ]
    },
    {
      "cell_type": "code",
      "metadata": {
        "id": "HFRvSrZL4FQx",
        "colab_type": "code",
        "outputId": "58b62363-6a43-494d-f5e1-cd210e645484",
        "colab": {
          "base_uri": "https://localhost:8080/",
          "height": 833
        }
      },
      "source": [
        "%%time\n",
        "\n",
        "layers = 2\n",
        "neurons = 500\n",
        "\n",
        "number_of_layers_neurons(Layers=layers, Neurons=neurons)"
      ],
      "execution_count": 0,
      "outputs": [
        {
          "output_type": "stream",
          "text": [
            "Epoch 1/100\n",
            "2188/2188 - 9s - loss: 9.6675 - val_loss: 1.0294\n",
            "Epoch 2/100\n",
            "2188/2188 - 10s - loss: 0.5213 - val_loss: 0.2582\n",
            "Epoch 3/100\n",
            "2188/2188 - 9s - loss: 0.1917 - val_loss: 0.2332\n",
            "Epoch 4/100\n",
            "2188/2188 - 10s - loss: 0.1138 - val_loss: 0.0770\n",
            "Epoch 5/100\n",
            "2188/2188 - 10s - loss: 0.0694 - val_loss: 0.0668\n",
            "Epoch 6/100\n",
            "2188/2188 - 9s - loss: 0.0521 - val_loss: 0.0414\n",
            "Epoch 7/100\n",
            "2188/2188 - 10s - loss: 0.0414 - val_loss: 0.0429\n",
            "Epoch 8/100\n",
            "2188/2188 - 9s - loss: 0.0372 - val_loss: 0.0252\n",
            "Epoch 9/100\n",
            "2188/2188 - 9s - loss: 0.0337 - val_loss: 0.0201\n",
            "Epoch 10/100\n",
            "2188/2188 - 9s - loss: 0.0283 - val_loss: 0.0282\n",
            "Epoch 11/100\n",
            "2188/2188 - 9s - loss: 0.0269 - val_loss: 0.0334\n",
            "Epoch 12/100\n",
            "2188/2188 - 9s - loss: 0.0235 - val_loss: 0.0164\n",
            "Epoch 13/100\n",
            "2188/2188 - 9s - loss: 0.0219 - val_loss: 0.0305\n",
            "Epoch 14/100\n",
            "2188/2188 - 9s - loss: 0.0220 - val_loss: 0.0138\n",
            "Epoch 15/100\n",
            "2188/2188 - 9s - loss: 0.0197 - val_loss: 0.0262\n",
            "Epoch 16/100\n",
            "2188/2188 - 9s - loss: 0.0198 - val_loss: 0.0166\n",
            "Epoch 17/100\n",
            "2188/2188 - 10s - loss: 0.0196 - val_loss: 0.0135\n",
            "Epoch 18/100\n",
            "2188/2188 - 10s - loss: 0.0168 - val_loss: 0.0220\n",
            "Epoch 19/100\n",
            "2188/2188 - 10s - loss: 0.0162 - val_loss: 0.0155\n",
            "Epoch 20/100\n",
            "2188/2188 - 9s - loss: 0.0166 - val_loss: 0.0095\n",
            "Epoch 21/100\n",
            "2188/2188 - 9s - loss: 0.0157 - val_loss: 0.0214\n",
            "Epoch 22/100\n",
            "2188/2188 - 10s - loss: 0.0152 - val_loss: 0.0197\n",
            "Epoch 23/100\n",
            "2188/2188 - 10s - loss: 0.0154 - val_loss: 0.0138\n",
            "CPU times: user 5min 31s, sys: 20.1 s, total: 5min 51s\n",
            "Wall time: 3min 38s\n"
          ],
          "name": "stdout"
        }
      ]
    },
    {
      "cell_type": "code",
      "metadata": {
        "id": "v_on6rSE4JFY",
        "colab_type": "code",
        "colab": {}
      },
      "source": [
        "#If you want to check that it indeed does have the descired amount of layers and neurons\n",
        "#model.summary()"
      ],
      "execution_count": 0,
      "outputs": []
    },
    {
      "cell_type": "code",
      "metadata": {
        "id": "Qnr7ZTKnBDdG",
        "colab_type": "code",
        "outputId": "9fb91b81-5811-46bd-888b-c355fca50f13",
        "colab": {
          "base_uri": "https://localhost:8080/",
          "height": 370
        }
      },
      "source": [
        "def plot():\n",
        "  pd.DataFrame(history.history).plot(figsize=(8,5))\n",
        "  plt.grid(True)\n",
        "  plt.xlabel('Number of Epochs')\n",
        "  plt.ylabel('Loss function')\n",
        "  plt.suptitle('MSE of Neural Network', fontsize=20)\n",
        "  plt.title('Layers: {}, Neurons: {}'.format(layers,neurons))\n",
        "  plt.legend(loc=\"upper right\", fontsize=12)\n",
        "  #plt.axis([0, 100, 0, 25])\n",
        "  plt.show()  \n",
        "\n",
        "plot()"
      ],
      "execution_count": 0,
      "outputs": [
        {
          "output_type": "display_data",
          "data": {
            "image/png": "[encoded data removed]",
            "text/plain": [
              "<Figure size 576x360 with 1 Axes>"
            ]
          },
          "metadata": {
            "tags": [],
            "needs_background": "light"
          }
        }
      ]
    },
    {
      "cell_type": "markdown",
      "metadata": {
        "id": "LHrSJojdTtYT",
        "colab_type": "text"
      },
      "source": [
        "Once we are satisfied with your models validation loss, you should evaluate it on the test set to estimate the generalization error before you deploy the model to production."
      ]
    },
    {
      "cell_type": "code",
      "metadata": {
        "id": "O0eQE1PdRBSR",
        "colab_type": "code",
        "outputId": "449f38c2-f38d-452c-afa0-f7b6e3a51cbc",
        "colab": {
          "base_uri": "https://localhost:8080/",
          "height": 51
        }
      },
      "source": [
        "model.evaluate(X_test,y_test)"
      ],
      "execution_count": 0,
      "outputs": [
        {
          "output_type": "stream",
          "text": [
            "313/313 [==============================] - 1s 2ms/step - loss: 0.0135\n"
          ],
          "name": "stdout"
        },
        {
          "output_type": "execute_result",
          "data": {
            "text/plain": [
              "0.013536026701331139"
            ]
          },
          "metadata": {
            "tags": []
          },
          "execution_count": 14
        }
      ]
    }
  ]
}